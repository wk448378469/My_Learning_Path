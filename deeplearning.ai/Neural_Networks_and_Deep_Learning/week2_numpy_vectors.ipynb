{
 "cells": [
  {
   "cell_type": "code",
   "execution_count": 1,
   "metadata": {
    "collapsed": false
   },
   "outputs": [
    {
     "name": "stdout",
     "output_type": "stream",
     "text": [
      "[ 1.35625486  1.42561617  1.29403809  0.64370339  0.42092232]\n"
     ]
    }
   ],
   "source": [
    "import numpy as np\n",
    "\n",
    "a = np.random.randn(5)\n",
    "print (a)"
   ]
  },
  {
   "cell_type": "code",
   "execution_count": 2,
   "metadata": {
    "collapsed": false
   },
   "outputs": [
    {
     "name": "stdout",
     "output_type": "stream",
     "text": [
      "(5,)\n"
     ]
    }
   ],
   "source": [
    "print (a.shape)"
   ]
  },
  {
   "cell_type": "code",
   "execution_count": 3,
   "metadata": {
    "collapsed": false
   },
   "outputs": [
    {
     "name": "stdout",
     "output_type": "stream",
     "text": [
      "[ 1.35625486  1.42561617  1.29403809  0.64370339  0.42092232]\n"
     ]
    }
   ],
   "source": [
    "print (a.T)"
   ]
  },
  {
   "cell_type": "code",
   "execution_count": 4,
   "metadata": {
    "collapsed": false
   },
   "outputs": [
    {
     "name": "stdout",
     "output_type": "stream",
     "text": [
      "6.13787293765\n"
     ]
    }
   ],
   "source": [
    "print (np.dot(a,a.T))"
   ]
  },
  {
   "cell_type": "code",
   "execution_count": 6,
   "metadata": {
    "collapsed": false
   },
   "outputs": [
    {
     "name": "stdout",
     "output_type": "stream",
     "text": [
      "[[ 0.76288939]\n",
      " [-0.43853185]\n",
      " [ 0.06702374]\n",
      " [-0.48531974]\n",
      " [-0.60743394]]\n",
      "[[ 0.76288939 -0.43853185  0.06702374 -0.48531974 -0.60743394]]\n",
      "(5, 1)\n",
      "(1, 5)\n"
     ]
    }
   ],
   "source": [
    "a = np.random.randn(5,1)\n",
    "print (a)\n",
    "print (a.T)\n",
    "print (a.shape)\n",
    "print (a.T.shape)"
   ]
  },
  {
   "cell_type": "code",
   "execution_count": 7,
   "metadata": {
    "collapsed": false
   },
   "outputs": [
    {
     "name": "stdout",
     "output_type": "stream",
     "text": [
      "[[ 0.58200023 -0.3345513   0.0511317  -0.37024528 -0.46340491]\n",
      " [-0.3345513   0.19231018 -0.02939205  0.21282816  0.26637913]\n",
      " [ 0.0511317  -0.02939205  0.00449218 -0.03252794 -0.0407125 ]\n",
      " [-0.37024528  0.21282816 -0.03252794  0.23553525  0.29479968]\n",
      " [-0.46340491  0.26637913 -0.0407125   0.29479968  0.36897599]]\n"
     ]
    }
   ],
   "source": [
    "print (np.dot(a,a.T))"
   ]
  },
  {
   "cell_type": "markdown",
   "metadata": {
    "collapsed": true
   },
   "source": [
    "多用下面的(5,1)or(1,5)，少用(5,)这样类型的~~~"
   ]
  },
  {
   "cell_type": "code",
   "execution_count": null,
   "metadata": {
    "collapsed": true
   },
   "outputs": [],
   "source": []
  }
 ],
 "metadata": {
  "kernelspec": {
   "display_name": "Python 3",
   "language": "python",
   "name": "python3"
  },
  "language_info": {
   "codemirror_mode": {
    "name": "ipython",
    "version": 3
   },
   "file_extension": ".py",
   "mimetype": "text/x-python",
   "name": "python",
   "nbconvert_exporter": "python",
   "pygments_lexer": "ipython3",
   "version": "3.6.0"
  }
 },
 "nbformat": 4,
 "nbformat_minor": 2
}
