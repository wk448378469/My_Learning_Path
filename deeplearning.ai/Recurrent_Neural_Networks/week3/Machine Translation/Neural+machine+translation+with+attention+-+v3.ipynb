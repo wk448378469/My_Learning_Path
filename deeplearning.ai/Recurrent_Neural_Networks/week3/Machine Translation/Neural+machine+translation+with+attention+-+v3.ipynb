{
 "cells": [
  {
   "cell_type": "markdown",
   "metadata": {},
   "source": [
    "# Neural Machine Translation\n",
    "\n",
    "Welcome to your first programming assignment for this week! \n",
    "\n",
    "You will build a Neural Machine Translation (NMT) model to translate human readable dates (\"25th of June, 2009\") into machine readable dates (\"2009-06-25\"). You will do this using an attention model, one of the most sophisticated sequence to sequence models. \n",
    "\n",
    "This notebook was produced together with NVIDIA's Deep Learning Institute. \n",
    "\n",
    "Let's load all the packages you will need for this assignment."
   ]
  },
  {
   "cell_type": "code",
   "execution_count": 1,
   "metadata": {},
   "outputs": [
    {
     "name": "stderr",
     "output_type": "stream",
     "text": [
      "Using TensorFlow backend.\n"
     ]
    }
   ],
   "source": [
    "from keras.layers import Bidirectional, Concatenate, Permute, Dot, Input, LSTM, Multiply\n",
    "from keras.layers import RepeatVector, Dense, Activation, Lambda\n",
    "from keras.optimizers import Adam\n",
    "from keras.utils import to_categorical\n",
    "from keras.models import load_model, Model\n",
    "import keras.backend as K\n",
    "import numpy as np\n",
    "\n",
    "from faker import Faker\n",
    "import random\n",
    "from tqdm import tqdm\n",
    "from babel.dates import format_date\n",
    "from nmt_utils import *\n",
    "import matplotlib.pyplot as plt\n",
    "%matplotlib inline"
   ]
  },
  {
   "cell_type": "markdown",
   "metadata": {},
   "source": [
    "## 1 - Translating human readable dates into machine readable dates\n",
    "\n",
    "The model you will build here could be used to translate from one language to another, such as translating from English to Hindi. However, language translation requires massive datasets and usually takes days of training on GPUs. To give you a place to experiment with these models even without using massive datasets, we will instead use a simpler \"date translation\" task. \n",
    "\n",
    "The network will input a date written in a variety of possible formats (*e.g. \"the 29th of August 1958\", \"03/30/1968\", \"24 JUNE 1987\"*) and translate them into standardized, machine readable dates (*e.g. \"1958-08-29\", \"1968-03-30\", \"1987-06-24\"*). We will have the network learn to output dates in the common machine-readable format YYYY-MM-DD. \n",
    "\n",
    "\n",
    "\n",
    "<!-- \n",
    "Take a look at [nmt_utils.py](./nmt_utils.py) to see all the formatting. Count and figure out how the formats work, you will need this knowledge later. !--> "
   ]
  },
  {
   "cell_type": "markdown",
   "metadata": {},
   "source": [
    "### 1.1 - Dataset\n",
    "\n",
    "We will train the model on a dataset of 10000 human readable dates and their equivalent, standardized, machine readable dates. Let's run the following cells to load the dataset and print some examples. "
   ]
  },
  {
   "cell_type": "code",
   "execution_count": 2,
   "metadata": {},
   "outputs": [
    {
     "name": "stderr",
     "output_type": "stream",
     "text": [
      "100%|█████████████████████████████████████████████████████████████████████████| 10000/10000 [00:00<00:00, 22085.44it/s]\n"
     ]
    }
   ],
   "source": [
    "m = 10000\n",
    "dataset, human_vocab, machine_vocab, inv_machine_vocab = load_dataset(m)"
   ]
  },
  {
   "cell_type": "code",
   "execution_count": 3,
   "metadata": {},
   "outputs": [
    {
     "data": {
      "text/plain": [
       "[('9 may 1998', '1998-05-09'),\n",
       " ('10.09.70', '1970-09-10'),\n",
       " ('4/28/90', '1990-04-28'),\n",
       " ('thursday january 26 1995', '1995-01-26'),\n",
       " ('monday march 7 1983', '1983-03-07'),\n",
       " ('sunday may 22 1988', '1988-05-22'),\n",
       " ('tuesday july 8 2008', '2008-07-08'),\n",
       " ('08 sep 1999', '1999-09-08'),\n",
       " ('1 jan 1981', '1981-01-01'),\n",
       " ('monday may 22 1995', '1995-05-22')]"
      ]
     },
     "execution_count": 3,
     "metadata": {},
     "output_type": "execute_result"
    }
   ],
   "source": [
    "dataset[:10]"
   ]
  },
  {
   "cell_type": "markdown",
   "metadata": {},
   "source": [
    "You've loaded:\n",
    "- `dataset`: a list of tuples of (human readable date, machine readable date)\n",
    "- `human_vocab`: a python dictionary mapping all characters used in the human readable dates to an integer-valued index \n",
    "- `machine_vocab`: a python dictionary mapping all characters used in machine readable dates to an integer-valued index. These indices are not necessarily consistent with `human_vocab`. \n",
    "- `inv_machine_vocab`: the inverse dictionary of `machine_vocab`, mapping from indices back to characters. \n",
    "\n",
    "Let's preprocess the data and map the raw text data into the index values. We will also use Tx=30 (which we assume is the maximum length of the human readable date; if we get a longer input, we would have to truncate it) and Ty=10 (since \"YYYY-MM-DD\" is 10 characters long). "
   ]
  },
  {
   "cell_type": "code",
   "execution_count": 4,
   "metadata": {},
   "outputs": [
    {
     "name": "stdout",
     "output_type": "stream",
     "text": [
      "X.shape: (10000, 30)\n",
      "Y.shape: (10000, 10)\n",
      "Xoh.shape: (10000, 30, 37)\n",
      "Yoh.shape: (10000, 10, 11)\n"
     ]
    }
   ],
   "source": [
    "Tx = 30\n",
    "Ty = 10\n",
    "X, Y, Xoh, Yoh = preprocess_data(dataset, human_vocab, machine_vocab, Tx, Ty)\n",
    "\n",
    "print(\"X.shape:\", X.shape)\n",
    "print(\"Y.shape:\", Y.shape)\n",
    "print(\"Xoh.shape:\", Xoh.shape)\n",
    "print(\"Yoh.shape:\", Yoh.shape)"
   ]
  },
  {
   "cell_type": "markdown",
   "metadata": {},
   "source": [
    "You now have:\n",
    "- `X`: a processed version of the human readable dates in the training set, where each character is replaced by an index mapped to the character via `human_vocab`. Each date is further padded to $T_x$ values with a special character (< pad >). `X.shape = (m, Tx)`\n",
    "- `Y`: a processed version of the machine readable dates in the training set, where each character is replaced by the index it is mapped to in `machine_vocab`. You should have `Y.shape = (m, Ty)`. \n",
    "- `Xoh`: one-hot version of `X`, the \"1\" entry's index is mapped to the character thanks to `human_vocab`. `Xoh.shape = (m, Tx, len(human_vocab))`\n",
    "- `Yoh`: one-hot version of `Y`, the \"1\" entry's index is mapped to the character thanks to `machine_vocab`. `Yoh.shape = (m, Tx, len(machine_vocab))`. Here, `len(machine_vocab) = 11` since there are 11 characters ('-' as well as 0-9). \n"
   ]
  },
  {
   "cell_type": "markdown",
   "metadata": {},
   "source": [
    "Lets also look at some examples of preprocessed training examples. Feel free to play with `index` in the cell below to navigate the dataset and see how source/target dates are preprocessed. "
   ]
  },
  {
   "cell_type": "code",
   "execution_count": 5,
   "metadata": {},
   "outputs": [
    {
     "name": "stdout",
     "output_type": "stream",
     "text": [
      "Source date: 9 may 1998\n",
      "Target date: 1998-05-09\n",
      "\n",
      "Source after preprocessing (indices): [12  0 24 13 34  0  4 12 12 11 36 36 36 36 36 36 36 36 36 36 36 36 36 36\n",
      " 36 36 36 36 36 36]\n",
      "Target after preprocessing (indices): [ 2 10 10  9  0  1  6  0  1 10]\n",
      "\n",
      "Source after preprocessing (one-hot): [[0. 0. 0. ... 0. 0. 0.]\n",
      " [1. 0. 0. ... 0. 0. 0.]\n",
      " [0. 0. 0. ... 0. 0. 0.]\n",
      " ...\n",
      " [0. 0. 0. ... 0. 0. 1.]\n",
      " [0. 0. 0. ... 0. 0. 1.]\n",
      " [0. 0. 0. ... 0. 0. 1.]]\n",
      "Target after preprocessing (one-hot): [[0. 0. 1. 0. 0. 0. 0. 0. 0. 0. 0.]\n",
      " [0. 0. 0. 0. 0. 0. 0. 0. 0. 0. 1.]\n",
      " [0. 0. 0. 0. 0. 0. 0. 0. 0. 0. 1.]\n",
      " [0. 0. 0. 0. 0. 0. 0. 0. 0. 1. 0.]\n",
      " [1. 0. 0. 0. 0. 0. 0. 0. 0. 0. 0.]\n",
      " [0. 1. 0. 0. 0. 0. 0. 0. 0. 0. 0.]\n",
      " [0. 0. 0. 0. 0. 0. 1. 0. 0. 0. 0.]\n",
      " [1. 0. 0. 0. 0. 0. 0. 0. 0. 0. 0.]\n",
      " [0. 1. 0. 0. 0. 0. 0. 0. 0. 0. 0.]\n",
      " [0. 0. 0. 0. 0. 0. 0. 0. 0. 0. 1.]]\n"
     ]
    }
   ],
   "source": [
    "index = 0\n",
    "print(\"Source date:\", dataset[index][0])\n",
    "print(\"Target date:\", dataset[index][1])\n",
    "print()\n",
    "print(\"Source after preprocessing (indices):\", X[index])\n",
    "print(\"Target after preprocessing (indices):\", Y[index])\n",
    "print()\n",
    "print(\"Source after preprocessing (one-hot):\", Xoh[index])\n",
    "print(\"Target after preprocessing (one-hot):\", Yoh[index])"
   ]
  },
  {
   "cell_type": "markdown",
   "metadata": {},
   "source": [
    "## 2 - Neural machine translation with attention\n",
    "\n",
    "If you had to translate a book's paragraph from French to English, you would not read the whole paragraph, then close the book and translate. Even during the translation process, you would read/re-read and focus on the parts of the French paragraph corresponding to the parts of the English you are writing down. \n",
    "\n",
    "The attention mechanism tells a Neural Machine Translation model where it should pay attention to at any step. \n",
    "\n",
    "\n",
    "### 2.1 - Attention mechanism\n",
    "\n",
    "In this part, you will implement the attention mechanism presented in the lecture videos. Here is a figure to remind you how the model works. The diagram on the left shows the attention model. The diagram on the right shows what one \"Attention\" step does to calculate the attention variables $\\alpha^{\\langle t, t' \\rangle}$, which are used to compute the context variable $context^{\\langle t \\rangle}$ for each timestep in the output ($t=1, \\ldots, T_y$). \n",
    "\n",
    "<table>\n",
    "<td> \n",
    "<img src=\"images/attn_model.png\" style=\"width:500;height:500px;\"> <br>\n",
    "</td> \n",
    "<td> \n",
    "<img src=\"images/attn_mechanism.png\" style=\"width:500;height:500px;\"> <br>\n",
    "</td> \n",
    "</table>\n",
    "<caption><center> **Figure 1**: Neural machine translation with attention</center></caption>\n"
   ]
  },
  {
   "cell_type": "markdown",
   "metadata": {},
   "source": [
    "\n",
    "Here are some properties of the model that you may notice: \n",
    "\n",
    "- There are two separate LSTMs in this model (see diagram on the left). Because the one at the bottom of the picture is a Bi-directional LSTM and comes *before* the attention mechanism, we will call it *pre-attention* Bi-LSTM. The LSTM at the top of the diagram comes *after* the attention mechanism, so we will call it the *post-attention* LSTM. The pre-attention Bi-LSTM goes through $T_x$ time steps; the post-attention LSTM goes through $T_y$ time steps. \n",
    "\n",
    "- The post-attention LSTM passes $s^{\\langle t \\rangle}, c^{\\langle t \\rangle}$ from one time step to the next. In the lecture videos, we were using only a basic RNN for the post-activation sequence model, so the state captured by the RNN output activations $s^{\\langle t\\rangle}$. But since we are using an LSTM here, the LSTM has both the output activation $s^{\\langle t\\rangle}$ and the hidden cell state $c^{\\langle t\\rangle}$. However, unlike previous text generation examples (such as Dinosaurus in week 1), in this model the post-activation LSTM at time $t$ does will not take the specific generated $y^{\\langle t-1 \\rangle}$ as input; it only takes $s^{\\langle t\\rangle}$ and $c^{\\langle t\\rangle}$ as input. We have designed the model this way, because (unlike language generation where adjacent characters are highly correlated) there isn't as strong a dependency between the previous character and the next character in a YYYY-MM-DD date. \n",
    "\n",
    "- We use $a^{\\langle t \\rangle} = [\\overrightarrow{a}^{\\langle t \\rangle}; \\overleftarrow{a}^{\\langle t \\rangle}]$ to represent the concatenation of the activations of both the forward-direction and backward-directions of the pre-attention Bi-LSTM. \n",
    "\n",
    "- The diagram on the right uses a `RepeatVector` node to copy $s^{\\langle t-1 \\rangle}$'s value $T_x$ times, and then `Concatenation` to concatenate $s^{\\langle t-1 \\rangle}$ and $a^{\\langle t \\rangle}$ to compute $e^{\\langle t, t'}$, which is then passed through a softmax to compute $\\alpha^{\\langle t, t' \\rangle}$. We'll explain how to use `RepeatVector` and `Concatenation` in Keras below. \n",
    "\n",
    "Lets implement this model. You will start by implementing two functions: `one_step_attention()` and `model()`.\n",
    "\n",
    "**1) `one_step_attention()`**: At step $t$, given all the hidden states of the Bi-LSTM ($[a^{<1>},a^{<2>}, ..., a^{<T_x>}]$) and the previous hidden state of the second LSTM ($s^{<t-1>}$), `one_step_attention()` will compute the attention weights ($[\\alpha^{<t,1>},\\alpha^{<t,2>}, ..., \\alpha^{<t,T_x>}]$) and output the context vector (see Figure  1 (right) for details):\n",
    "$$context^{<t>} = \\sum_{t' = 0}^{T_x} \\alpha^{<t,t'>}a^{<t'>}\\tag{1}$$ \n",
    "\n",
    "Note that we are denoting the attention in this notebook $context^{\\langle t \\rangle}$. In the lecture videos, the context was denoted $c^{\\langle t \\rangle}$, but here we are calling it $context^{\\langle t \\rangle}$ to avoid confusion with the (post-attention) LSTM's internal memory cell variable, which is sometimes also denoted $c^{\\langle t \\rangle}$. \n",
    "  \n",
    "**2) `model()`**: Implements the entire model. It first runs the input through a Bi-LSTM to get back $[a^{<1>},a^{<2>}, ..., a^{<T_x>}]$. Then, it calls `one_step_attention()` $T_y$ times (`for` loop). At each iteration of this loop, it gives the computed context vector $c^{<t>}$ to the second LSTM, and runs the output of the LSTM through a dense layer with softmax activation to generate a prediction $\\hat{y}^{<t>}$. \n",
    "\n",
    "\n",
    "\n",
    "**Exercise**: Implement `one_step_attention()`. The function `model()` will call the layers in `one_step_attention()` $T_y$ using a for-loop, and it is important that all $T_y$ copies have the same weights. I.e., it should not re-initiaiize the weights every time. In other words, all $T_y$ steps should have shared weights. Here's how you can implement layers with shareable weights in Keras:\n",
    "1. Define the layer objects (as global variables for examples).\n",
    "2. Call these objects when propagating the input.\n",
    "\n",
    "We have defined the layers you need as global variables. Please run the following cells to create them. Please check the Keras documentation to make sure you understand what these layers are: [RepeatVector()](https://keras.io/layers/core/#repeatvector), [Concatenate()](https://keras.io/layers/merge/#concatenate), [Dense()](https://keras.io/layers/core/#dense), [Activation()](https://keras.io/layers/core/#activation), [Dot()](https://keras.io/layers/merge/#dot)."
   ]
  },
  {
   "cell_type": "code",
   "execution_count": 6,
   "metadata": {},
   "outputs": [],
   "source": [
    "# Defined shared layers as global variables\n",
    "repeator = RepeatVector(Tx)\n",
    "concatenator = Concatenate(axis=-1)\n",
    "densor1 = Dense(10, activation = \"tanh\")\n",
    "densor2 = Dense(1, activation = \"relu\")\n",
    "activator = Activation(softmax, name='attention_weights') # We are using a custom softmax(axis = 1) loaded in this notebook\n",
    "dotor = Dot(axes = 1)"
   ]
  },
  {
   "cell_type": "markdown",
   "metadata": {},
   "source": [
    "Now you can use these layers to implement `one_step_attention()`. In order to propagate a Keras tensor object X through one of these layers, use `layer(X)` (or `layer([X,Y])` if it requires multiple inputs.), e.g. `densor(X)` will propagate X through the `Dense(1)` layer defined above."
   ]
  },
  {
   "cell_type": "code",
   "execution_count": 7,
   "metadata": {},
   "outputs": [],
   "source": [
    "# GRADED FUNCTION: one_step_attention\n",
    "\n",
    "def one_step_attention(a, s_prev):\n",
    "    \"\"\"\n",
    "    Performs one step of attention: Outputs a context vector computed as a dot product of the attention weights\n",
    "    \"alphas\" and the hidden states \"a\" of the Bi-LSTM.\n",
    "    \n",
    "    Arguments:\n",
    "    a -- hidden state output of the Bi-LSTM, numpy-array of shape (m, Tx, 2*n_a)\n",
    "    s_prev -- previous hidden state of the (post-attention) LSTM, numpy-array of shape (m, n_s)\n",
    "    \n",
    "    Returns:\n",
    "    context -- context vector, input of the next (post-attetion) LSTM cell\n",
    "    \"\"\"\n",
    "    \n",
    "    ### START CODE HERE ###\n",
    "    # Use repeator to repeat s_prev to be of shape (m, Tx, n_s) so that you can concatenate it with all hidden states \"a\" (≈ 1 line)\n",
    "    s_prev = repeator(s_prev)\n",
    "    # Use concatenator to concatenate a and s_prev on the last axis (≈ 1 line)\n",
    "    concat = concatenator([a, s_prev])\n",
    "    # Use densor1 to propagate concat through a small fully-connected neural network to compute the \"intermediate energies\" variable e. (≈1 lines)\n",
    "    e = densor1(concat)\n",
    "    # Use densor2 to propagate e through a small fully-connected neural network to compute the \"energies\" variable energies. (≈1 lines)\n",
    "    energies = densor2(e)\n",
    "    # Use \"activator\" on \"energies\" to compute the attention weights \"alphas\" (≈ 1 line)\n",
    "    alphas = activator(energies)\n",
    "    # Use dotor together with \"alphas\" and \"a\" to compute the context vector to be given to the next (post-attention) LSTM-cell (≈ 1 line)\n",
    "    context = dotor([alphas, a])\n",
    "    ### END CODE HERE ###\n",
    "    \n",
    "    return context"
   ]
  },
  {
   "cell_type": "markdown",
   "metadata": {},
   "source": [
    "You will be able to check the expected output of `one_step_attention()` after you've coded the `model()` function."
   ]
  },
  {
   "cell_type": "markdown",
   "metadata": {},
   "source": [
    "**Exercise**: Implement `model()` as explained in figure 2 and the text above. Again, we have defined global layers that will share weights to be used in `model()`."
   ]
  },
  {
   "cell_type": "code",
   "execution_count": 8,
   "metadata": {},
   "outputs": [],
   "source": [
    "n_a = 32\n",
    "n_s = 64\n",
    "post_activation_LSTM_cell = LSTM(n_s, return_state = True)\n",
    "output_layer = Dense(len(machine_vocab), activation=softmax)"
   ]
  },
  {
   "cell_type": "markdown",
   "metadata": {},
   "source": [
    "Now you can use these layers $T_y$ times in a `for` loop to generate the outputs, and their parameters will not be reinitialized. You will have to carry out the following steps: \n",
    "\n",
    "1. Propagate the input into a [Bidirectional](https://keras.io/layers/wrappers/#bidirectional) [LSTM](https://keras.io/layers/recurrent/#lstm)\n",
    "2. Iterate for $t = 0, \\dots, T_y-1$: \n",
    "    1. Call `one_step_attention()` on $[\\alpha^{<t,1>},\\alpha^{<t,2>}, ..., \\alpha^{<t,T_x>}]$ and $s^{<t-1>}$ to get the context vector $context^{<t>}$.\n",
    "    2. Give $context^{<t>}$ to the post-attention LSTM cell. Remember pass in the previous hidden-state $s^{\\langle t-1\\rangle}$ and cell-states $c^{\\langle t-1\\rangle}$ of this LSTM using `initial_state= [previous hidden state, previous cell state]`. Get back the new hidden state $s^{<t>}$ and the new cell state $c^{<t>}$.\n",
    "    3. Apply a softmax layer to $s^{<t>}$, get the output. \n",
    "    4. Save the output by adding it to the list of outputs.\n",
    "\n",
    "3. Create your Keras model instance, it should have three inputs (\"inputs\", $s^{<0>}$ and $c^{<0>}$) and output the list of \"outputs\"."
   ]
  },
  {
   "cell_type": "code",
   "execution_count": 9,
   "metadata": {},
   "outputs": [],
   "source": [
    "# GRADED FUNCTION: model\n",
    "\n",
    "def model(Tx, Ty, n_a, n_s, human_vocab_size, machine_vocab_size):\n",
    "    \"\"\"\n",
    "    Arguments:\n",
    "    Tx -- length of the input sequence\n",
    "    Ty -- length of the output sequence\n",
    "    n_a -- hidden state size of the Bi-LSTM\n",
    "    n_s -- hidden state size of the post-attention LSTM\n",
    "    human_vocab_size -- size of the python dictionary \"human_vocab\"\n",
    "    machine_vocab_size -- size of the python dictionary \"machine_vocab\"\n",
    "\n",
    "    Returns:\n",
    "    model -- Keras model instance\n",
    "    \"\"\"\n",
    "    \n",
    "    # Define the inputs of your model with a shape (Tx,)\n",
    "    # Define s0 and c0, initial hidden state for the decoder LSTM of shape (n_s,)\n",
    "    X = Input(shape=(Tx, human_vocab_size))\n",
    "    s0 = Input(shape=(n_s,), name='s0')\n",
    "    c0 = Input(shape=(n_s,), name='c0')\n",
    "    s = s0\n",
    "    c = c0\n",
    "    \n",
    "    # Initialize empty list of outputs\n",
    "    outputs = []\n",
    "    \n",
    "    ### START CODE HERE ###\n",
    "    \n",
    "    # Step 1: Define your pre-attention Bi-LSTM. Remember to use return_sequences=True. (≈ 1 line)\n",
    "    a = Bidirectional(LSTM(n_a, return_sequences = True))(X)\n",
    "    \n",
    "    # Step 2: Iterate for Ty steps\n",
    "    for t in range(Ty):\n",
    "    \n",
    "        # Step 2.A: Perform one step of the attention mechanism to get back the context vector at step t (≈ 1 line)\n",
    "        context = one_step_attention(a, s)\n",
    "        \n",
    "        # Step 2.B: Apply the post-attention LSTM cell to the \"context\" vector.\n",
    "        # Don't forget to pass: initial_state = [hidden state, cell state] (≈ 1 line)\n",
    "        s, _, c = post_activation_LSTM_cell(context, initial_state = [s, c])\n",
    "        \n",
    "        # Step 2.C: Apply Dense layer to the hidden state output of the post-attention LSTM (≈ 1 line)\n",
    "        out = output_layer(s)\n",
    "        \n",
    "        # Step 2.D: Append \"out\" to the \"outputs\" list (≈ 1 line)\n",
    "        outputs.append(out)\n",
    "    \n",
    "    # Step 3: Create model instance taking three inputs and returning the list of outputs. (≈ 1 line)\n",
    "    model = Model(inputs=[X, s0, c0], outputs=outputs)\n",
    "    \n",
    "    ### END CODE HERE ###\n",
    "    \n",
    "    return model"
   ]
  },
  {
   "cell_type": "markdown",
   "metadata": {},
   "source": [
    "Run the following cell to create your model."
   ]
  },
  {
   "cell_type": "code",
   "execution_count": 10,
   "metadata": {},
   "outputs": [],
   "source": [
    "model = model(Tx, Ty, n_a, n_s, len(human_vocab), len(machine_vocab))"
   ]
  },
  {
   "cell_type": "markdown",
   "metadata": {},
   "source": [
    "Let's get a summary of the model to check if it matches the expected output."
   ]
  },
  {
   "cell_type": "code",
   "execution_count": 11,
   "metadata": {},
   "outputs": [
    {
     "name": "stdout",
     "output_type": "stream",
     "text": [
      "__________________________________________________________________________________________________\n",
      "Layer (type)                    Output Shape         Param #     Connected to                     \n",
      "==================================================================================================\n",
      "input_1 (InputLayer)            (None, 30, 37)       0                                            \n",
      "__________________________________________________________________________________________________\n",
      "s0 (InputLayer)                 (None, 64)           0                                            \n",
      "__________________________________________________________________________________________________\n",
      "bidirectional_1 (Bidirectional) (None, 30, 64)       17920       input_1[0][0]                    \n",
      "__________________________________________________________________________________________________\n",
      "repeat_vector_1 (RepeatVector)  (None, 30, 64)       0           s0[0][0]                         \n",
      "                                                                 lstm_1[0][0]                     \n",
      "                                                                 lstm_1[1][0]                     \n",
      "                                                                 lstm_1[2][0]                     \n",
      "                                                                 lstm_1[3][0]                     \n",
      "                                                                 lstm_1[4][0]                     \n",
      "                                                                 lstm_1[5][0]                     \n",
      "                                                                 lstm_1[6][0]                     \n",
      "                                                                 lstm_1[7][0]                     \n",
      "                                                                 lstm_1[8][0]                     \n",
      "__________________________________________________________________________________________________\n",
      "concatenate_1 (Concatenate)     (None, 30, 128)      0           bidirectional_1[0][0]            \n",
      "                                                                 repeat_vector_1[0][0]            \n",
      "                                                                 bidirectional_1[0][0]            \n",
      "                                                                 repeat_vector_1[1][0]            \n",
      "                                                                 bidirectional_1[0][0]            \n",
      "                                                                 repeat_vector_1[2][0]            \n",
      "                                                                 bidirectional_1[0][0]            \n",
      "                                                                 repeat_vector_1[3][0]            \n",
      "                                                                 bidirectional_1[0][0]            \n",
      "                                                                 repeat_vector_1[4][0]            \n",
      "                                                                 bidirectional_1[0][0]            \n",
      "                                                                 repeat_vector_1[5][0]            \n",
      "                                                                 bidirectional_1[0][0]            \n",
      "                                                                 repeat_vector_1[6][0]            \n",
      "                                                                 bidirectional_1[0][0]            \n",
      "                                                                 repeat_vector_1[7][0]            \n",
      "                                                                 bidirectional_1[0][0]            \n",
      "                                                                 repeat_vector_1[8][0]            \n",
      "                                                                 bidirectional_1[0][0]            \n",
      "                                                                 repeat_vector_1[9][0]            \n",
      "__________________________________________________________________________________________________\n",
      "dense_1 (Dense)                 (None, 30, 10)       1290        concatenate_1[0][0]              \n",
      "                                                                 concatenate_1[1][0]              \n",
      "                                                                 concatenate_1[2][0]              \n",
      "                                                                 concatenate_1[3][0]              \n",
      "                                                                 concatenate_1[4][0]              \n",
      "                                                                 concatenate_1[5][0]              \n",
      "                                                                 concatenate_1[6][0]              \n",
      "                                                                 concatenate_1[7][0]              \n",
      "                                                                 concatenate_1[8][0]              \n",
      "                                                                 concatenate_1[9][0]              \n",
      "__________________________________________________________________________________________________\n",
      "dense_2 (Dense)                 (None, 30, 1)        11          dense_1[0][0]                    \n",
      "                                                                 dense_1[1][0]                    \n",
      "                                                                 dense_1[2][0]                    \n",
      "                                                                 dense_1[3][0]                    \n",
      "                                                                 dense_1[4][0]                    \n",
      "                                                                 dense_1[5][0]                    \n",
      "                                                                 dense_1[6][0]                    \n",
      "                                                                 dense_1[7][0]                    \n",
      "                                                                 dense_1[8][0]                    \n",
      "                                                                 dense_1[9][0]                    \n",
      "__________________________________________________________________________________________________\n",
      "attention_weights (Activation)  (None, 30, 1)        0           dense_2[0][0]                    \n",
      "                                                                 dense_2[1][0]                    \n",
      "                                                                 dense_2[2][0]                    \n",
      "                                                                 dense_2[3][0]                    \n",
      "                                                                 dense_2[4][0]                    \n",
      "                                                                 dense_2[5][0]                    \n",
      "                                                                 dense_2[6][0]                    \n",
      "                                                                 dense_2[7][0]                    \n",
      "                                                                 dense_2[8][0]                    \n",
      "                                                                 dense_2[9][0]                    \n",
      "__________________________________________________________________________________________________\n",
      "dot_1 (Dot)                     (None, 1, 64)        0           attention_weights[0][0]          \n",
      "                                                                 bidirectional_1[0][0]            \n",
      "                                                                 attention_weights[1][0]          \n",
      "                                                                 bidirectional_1[0][0]            \n",
      "                                                                 attention_weights[2][0]          \n",
      "                                                                 bidirectional_1[0][0]            \n",
      "                                                                 attention_weights[3][0]          \n",
      "                                                                 bidirectional_1[0][0]            \n"
     ]
    },
    {
     "name": "stdout",
     "output_type": "stream",
     "text": [
      "                                                                 attention_weights[4][0]          \n",
      "                                                                 bidirectional_1[0][0]            \n",
      "                                                                 attention_weights[5][0]          \n",
      "                                                                 bidirectional_1[0][0]            \n",
      "                                                                 attention_weights[6][0]          \n",
      "                                                                 bidirectional_1[0][0]            \n",
      "                                                                 attention_weights[7][0]          \n",
      "                                                                 bidirectional_1[0][0]            \n",
      "                                                                 attention_weights[8][0]          \n",
      "                                                                 bidirectional_1[0][0]            \n",
      "                                                                 attention_weights[9][0]          \n",
      "                                                                 bidirectional_1[0][0]            \n",
      "__________________________________________________________________________________________________\n",
      "c0 (InputLayer)                 (None, 64)           0                                            \n",
      "__________________________________________________________________________________________________\n",
      "lstm_1 (LSTM)                   [(None, 64), (None,  33024       dot_1[0][0]                      \n",
      "                                                                 s0[0][0]                         \n",
      "                                                                 c0[0][0]                         \n",
      "                                                                 dot_1[1][0]                      \n",
      "                                                                 lstm_1[0][0]                     \n",
      "                                                                 lstm_1[0][2]                     \n",
      "                                                                 dot_1[2][0]                      \n",
      "                                                                 lstm_1[1][0]                     \n",
      "                                                                 lstm_1[1][2]                     \n",
      "                                                                 dot_1[3][0]                      \n",
      "                                                                 lstm_1[2][0]                     \n",
      "                                                                 lstm_1[2][2]                     \n",
      "                                                                 dot_1[4][0]                      \n",
      "                                                                 lstm_1[3][0]                     \n",
      "                                                                 lstm_1[3][2]                     \n",
      "                                                                 dot_1[5][0]                      \n",
      "                                                                 lstm_1[4][0]                     \n",
      "                                                                 lstm_1[4][2]                     \n",
      "                                                                 dot_1[6][0]                      \n",
      "                                                                 lstm_1[5][0]                     \n",
      "                                                                 lstm_1[5][2]                     \n",
      "                                                                 dot_1[7][0]                      \n",
      "                                                                 lstm_1[6][0]                     \n",
      "                                                                 lstm_1[6][2]                     \n",
      "                                                                 dot_1[8][0]                      \n",
      "                                                                 lstm_1[7][0]                     \n",
      "                                                                 lstm_1[7][2]                     \n",
      "                                                                 dot_1[9][0]                      \n",
      "                                                                 lstm_1[8][0]                     \n",
      "                                                                 lstm_1[8][2]                     \n",
      "__________________________________________________________________________________________________\n",
      "dense_3 (Dense)                 (None, 11)           715         lstm_1[0][0]                     \n",
      "                                                                 lstm_1[1][0]                     \n",
      "                                                                 lstm_1[2][0]                     \n",
      "                                                                 lstm_1[3][0]                     \n",
      "                                                                 lstm_1[4][0]                     \n",
      "                                                                 lstm_1[5][0]                     \n",
      "                                                                 lstm_1[6][0]                     \n",
      "                                                                 lstm_1[7][0]                     \n",
      "                                                                 lstm_1[8][0]                     \n",
      "                                                                 lstm_1[9][0]                     \n",
      "==================================================================================================\n",
      "Total params: 52,960\n",
      "Trainable params: 52,960\n",
      "Non-trainable params: 0\n",
      "__________________________________________________________________________________________________\n"
     ]
    }
   ],
   "source": [
    "model.summary()"
   ]
  },
  {
   "cell_type": "markdown",
   "metadata": {},
   "source": [
    "**Expected Output**:\n",
    "\n",
    "Here is the summary you should see\n",
    "<table>\n",
    "    <tr>\n",
    "        <td>\n",
    "            **Total params:**\n",
    "        </td>\n",
    "        <td>\n",
    "         185,484\n",
    "        </td>\n",
    "    </tr>\n",
    "        <tr>\n",
    "        <td>\n",
    "            **Trainable params:**\n",
    "        </td>\n",
    "        <td>\n",
    "         185,484\n",
    "        </td>\n",
    "    </tr>\n",
    "            <tr>\n",
    "        <td>\n",
    "            **Non-trainable params:**\n",
    "        </td>\n",
    "        <td>\n",
    "         0\n",
    "        </td>\n",
    "    </tr>\n",
    "                    <tr>\n",
    "        <td>\n",
    "            **bidirectional_1's output shape **\n",
    "        </td>\n",
    "        <td>\n",
    "         (None, 30, 128)  \n",
    "        </td>\n",
    "    </tr>\n",
    "    <tr>\n",
    "        <td>\n",
    "            **repeat_vector_1's output shape **\n",
    "        </td>\n",
    "        <td>\n",
    "         (None, 30, 128)  \n",
    "        </td>\n",
    "    </tr>\n",
    "                <tr>\n",
    "        <td>\n",
    "            **concatenate_1's output shape **\n",
    "        </td>\n",
    "        <td>\n",
    "         (None, 30, 256) \n",
    "        </td>\n",
    "    </tr>\n",
    "            <tr>\n",
    "        <td>\n",
    "            **attention_weights's output shape **\n",
    "        </td>\n",
    "        <td>\n",
    "         (None, 30, 1)  \n",
    "        </td>\n",
    "    </tr>\n",
    "        <tr>\n",
    "        <td>\n",
    "            **dot_1's output shape **\n",
    "        </td>\n",
    "        <td>\n",
    "         (None, 1, 128) \n",
    "        </td>\n",
    "    </tr>\n",
    "           <tr>\n",
    "        <td>\n",
    "            **dense_2's output shape **\n",
    "        </td>\n",
    "        <td>\n",
    "         (None, 11) \n",
    "        </td>\n",
    "    </tr>\n",
    "</table>\n"
   ]
  },
  {
   "cell_type": "markdown",
   "metadata": {},
   "source": [
    "As usual, after creating your model in Keras, you need to compile it and define what loss, optimizer and metrics your are want to use. Compile your model using `categorical_crossentropy` loss, a custom [Adam](https://keras.io/optimizers/#adam) [optimizer](https://keras.io/optimizers/#usage-of-optimizers) (`learning rate = 0.005`, $\\beta_1 = 0.9$, $\\beta_2 = 0.999$, `decay = 0.01`)  and `['accuracy']` metrics:"
   ]
  },
  {
   "cell_type": "code",
   "execution_count": 12,
   "metadata": {},
   "outputs": [],
   "source": [
    "### START CODE HERE ### (≈2 lines)\n",
    "opt = Adam(lr = 0.005, beta_1=0.9, beta_2=0.999, decay = 0.01)\n",
    "model.compile(loss='categorical_crossentropy', optimizer=opt, metrics=['accuracy'])\n",
    "### END CODE HERE ###"
   ]
  },
  {
   "cell_type": "markdown",
   "metadata": {},
   "source": [
    "The last step is to define all your inputs and outputs to fit the model:\n",
    "- You already have X of shape $(m = 10000, T_x = 30)$ containing the training examples.\n",
    "- You need to create `s0` and `c0` to initialize your `post_activation_LSTM_cell` with 0s.\n",
    "- Given the `model()` you coded, you need the \"outputs\" to be a list of 11 elements of shape (m, T_y). So that: `outputs[i][0], ..., outputs[i][Ty]` represent the true labels (characters) corresponding to the $i^{th}$ training example (`X[i]`). More generally, `outputs[i][j]` is the true label of the $j^{th}$ character in the $i^{th}$ training example."
   ]
  },
  {
   "cell_type": "code",
   "execution_count": 13,
   "metadata": {},
   "outputs": [],
   "source": [
    "s0 = np.zeros((m, n_s))\n",
    "c0 = np.zeros((m, n_s))\n",
    "outputs = list(Yoh.swapaxes(0,1))"
   ]
  },
  {
   "cell_type": "markdown",
   "metadata": {},
   "source": [
    "Let's now fit the model and run it for one epoch."
   ]
  },
  {
   "cell_type": "code",
   "execution_count": 14,
   "metadata": {},
   "outputs": [
    {
     "name": "stdout",
     "output_type": "stream",
     "text": [
      "Epoch 1/1\n"
     ]
    },
    {
     "name": "stdout",
     "output_type": "stream",
     "text": [
      " 2900/10000 [=======>......................] - ETA: 13:27 - loss: 23.9974 - dense_3_loss: 2.3952 - dense_3_acc: 0.0100 - dense_3_acc_1: 0.1800 - dense_3_acc_2: 0.0900 - dense_3_acc_3: 0.1600 - dense_3_acc_4: 0.0000e+00 - dense_3_acc_5: 0.0300 - dense_3_acc_6: 0.1000 - dense_3_acc_7: 0.0000e+00 - dense_3_acc_8: 0.0400 - dense_3_acc_9: 0.11 - ETA: 6:45 - loss: 23.7661 - dense_3_loss: 2.4038 - dense_3_acc: 0.0050 - dense_3_acc_1: 0.2900 - dense_3_acc_2: 0.1600 - dense_3_acc_3: 0.1300 - dense_3_acc_4: 0.0100 - dense_3_acc_5: 0.4450 - dense_3_acc_6: 0.0800 - dense_3_acc_7: 0.0100 - dense_3_acc_8: 0.2000 - dense_3_acc_9: 0.0900         - ETA: 4:30 - loss: 23.5576 - dense_3_loss: 2.4223 - dense_3_acc: 0.0033 - dense_3_acc_1: 0.3133 - dense_3_acc_2: 0.1667 - dense_3_acc_3: 0.1267 - dense_3_acc_4: 0.0067 - dense_3_acc_5: 0.5633 - dense_3_acc_6: 0.0833 - dense_3_acc_7: 0.0067 - dense_3_acc_8: 0.2267 - dense_3_acc_9: 0.073 - ETA: 3:23 - loss: 23.2910 - dense_3_loss: 2.4535 - dense_3_acc: 0.0025 - dense_3_acc_1: 0.3275 - dense_3_acc_2: 0.1775 - dense_3_acc_3: 0.1275 - dense_3_acc_4: 0.0075 - dense_3_acc_5: 0.6100 - dense_3_acc_6: 0.0725 - dense_3_acc_7: 0.0075 - dense_3_acc_8: 0.2450 - dense_3_acc_9: 0.077 - ETA: 2:43 - loss: 23.0405 - dense_3_loss: 2.5559 - dense_3_acc: 0.0020 - dense_3_acc_1: 0.3400 - dense_3_acc_2: 0.1880 - dense_3_acc_3: 0.1260 - dense_3_acc_4: 0.0160 - dense_3_acc_5: 0.6300 - dense_3_acc_6: 0.0700 - dense_3_acc_7: 0.0660 - dense_3_acc_8: 0.2240 - dense_3_acc_9: 0.062 - ETA: 2:16 - loss: 22.9116 - dense_3_loss: 2.6750 - dense_3_acc: 0.0017 - dense_3_acc_1: 0.2833 - dense_3_acc_2: 0.1567 - dense_3_acc_3: 0.1050 - dense_3_acc_4: 0.1800 - dense_3_acc_5: 0.5250 - dense_3_acc_6: 0.0583 - dense_3_acc_7: 0.2217 - dense_3_acc_8: 0.1867 - dense_3_acc_9: 0.051 - ETA: 1:57 - loss: 22.7828 - dense_3_loss: 2.7637 - dense_3_acc: 0.0014 - dense_3_acc_1: 0.2429 - dense_3_acc_2: 0.1343 - dense_3_acc_3: 0.0900 - dense_3_acc_4: 0.2971 - dense_3_acc_5: 0.4500 - dense_3_acc_6: 0.0500 - dense_3_acc_7: 0.3329 - dense_3_acc_8: 0.1600 - dense_3_acc_9: 0.044 - ETA: 1:42 - loss: 22.6555 - dense_3_loss: 2.7896 - dense_3_acc: 0.0012 - dense_3_acc_1: 0.2125 - dense_3_acc_2: 0.1175 - dense_3_acc_3: 0.0787 - dense_3_acc_4: 0.3850 - dense_3_acc_5: 0.3938 - dense_3_acc_6: 0.0438 - dense_3_acc_7: 0.4163 - dense_3_acc_8: 0.1400 - dense_3_acc_9: 0.038 - ETA: 1:31 - loss: 22.5231 - dense_3_loss: 2.7994 - dense_3_acc: 0.0011 - dense_3_acc_1: 0.2167 - dense_3_acc_2: 0.1044 - dense_3_acc_3: 0.0700 - dense_3_acc_4: 0.4533 - dense_3_acc_5: 0.3500 - dense_3_acc_6: 0.0389 - dense_3_acc_7: 0.4811 - dense_3_acc_8: 0.1244 - dense_3_acc_9: 0.034 - ETA: 1:22 - loss: 22.4091 - dense_3_loss: 2.7970 - dense_3_acc: 1.0000e-03 - dense_3_acc_1: 0.2370 - dense_3_acc_2: 0.1160 - dense_3_acc_3: 0.0630 - dense_3_acc_4: 0.5080 - dense_3_acc_5: 0.3150 - dense_3_acc_6: 0.0350 - dense_3_acc_7: 0.5330 - dense_3_acc_8: 0.1120 - dense_3_acc_9: 0.031 - ETA: 1:14 - loss: 22.3287 - dense_3_loss: 2.7963 - dense_3_acc: 9.0909e-04 - dense_3_acc_1: 0.2473 - dense_3_acc_2: 0.1236 - dense_3_acc_3: 0.0709 - dense_3_acc_4: 0.5373 - dense_3_acc_5: 0.2864 - dense_3_acc_6: 0.0318 - dense_3_acc_7: 0.5755 - dense_3_acc_8: 0.1018 - dense_3_acc_9: 0.028 - ETA: 1:08 - loss: 22.2334 - dense_3_loss: 2.7901 - dense_3_acc: 8.3333e-04 - dense_3_acc_1: 0.2583 - dense_3_acc_2: 0.1308 - dense_3_acc_3: 0.0742 - dense_3_acc_4: 0.5033 - dense_3_acc_5: 0.2925 - dense_3_acc_6: 0.0292 - dense_3_acc_7: 0.6108 - dense_3_acc_8: 0.0933 - dense_3_acc_9: 0.025 - ETA: 1:03 - loss: 22.1569 - dense_3_loss: 2.7771 - dense_3_acc: 7.6923e-04 - dense_3_acc_1: 0.2662 - dense_3_acc_2: 0.1315 - dense_3_acc_3: 0.0769 - dense_3_acc_4: 0.4646 - dense_3_acc_5: 0.3200 - dense_3_acc_6: 0.0277 - dense_3_acc_7: 0.6338 - dense_3_acc_8: 0.0862 - dense_3_acc_9: 0.023 - ETA: 58s - loss: 22.0727 - dense_3_loss: 2.7750 - dense_3_acc: 7.1429e-04 - dense_3_acc_1: 0.2764 - dense_3_acc_2: 0.1379 - dense_3_acc_3: 0.0821 - dense_3_acc_4: 0.4500 - dense_3_acc_5: 0.2979 - dense_3_acc_6: 0.0257 - dense_3_acc_7: 0.6600 - dense_3_acc_8: 0.0800 - dense_3_acc_9: 0.022 - ETA: 54s - loss: 21.9990 - dense_3_loss: 2.7801 - dense_3_acc: 6.6667e-04 - dense_3_acc_1: 0.2820 - dense_3_acc_2: 0.1420 - dense_3_acc_3: 0.0853 - dense_3_acc_4: 0.4867 - dense_3_acc_5: 0.2780 - dense_3_acc_6: 0.0240 - dense_3_acc_7: 0.6827 - dense_3_acc_8: 0.0747 - dense_3_acc_9: 0.02 - ETA: 51s - loss: 21.9234 - dense_3_loss: 2.7896 - dense_3_acc: 6.2500e-04 - dense_3_acc_1: 0.2994 - dense_3_acc_2: 0.1481 - dense_3_acc_3: 0.0800 - dense_3_acc_4: 0.5187 - dense_3_acc_5: 0.2606 - dense_3_acc_6: 0.0225 - dense_3_acc_7: 0.7025 - dense_3_acc_8: 0.0700 - dense_3_acc_9: 0.01 - ETA: 48s - loss: 21.8625 - dense_3_loss: 2.7940 - dense_3_acc: 5.8824e-04 - dense_3_acc_1: 0.3218 - dense_3_acc_2: 0.1494 - dense_3_acc_3: 0.0753 - dense_3_acc_4: 0.5471 - dense_3_acc_5: 0.2453 - dense_3_acc_6: 0.0212 - dense_3_acc_7: 0.7200 - dense_3_acc_8: 0.0659 - dense_3_acc_9: 0.01 - ETA: 45s - loss: 21.8119 - dense_3_loss: 2.8010 - dense_3_acc: 5.5556e-04 - dense_3_acc_1: 0.3411 - dense_3_acc_2: 0.1506 - dense_3_acc_3: 0.0711 - dense_3_acc_4: 0.5722 - dense_3_acc_5: 0.2317 - dense_3_acc_6: 0.0200 - dense_3_acc_7: 0.7356 - dense_3_acc_8: 0.0622 - dense_3_acc_9: 0.01 - ETA: 43s - loss: 21.7408 - dense_3_loss: 2.7966 - dense_3_acc: 5.2632e-04 - dense_3_acc_1: 0.3558 - dense_3_acc_2: 0.1521 - dense_3_acc_3: 0.0679 - dense_3_acc_4: 0.5947 - dense_3_acc_5: 0.2195 - dense_3_acc_6: 0.0189 - dense_3_acc_7: 0.7495 - dense_3_acc_8: 0.0589 - dense_3_acc_9: 0.01 - ETA: 40s - loss: 21.6708 - dense_3_loss: 2.7935 - dense_3_acc: 5.0000e-04 - dense_3_acc_1: 0.3715 - dense_3_acc_2: 0.1530 - dense_3_acc_3: 0.0685 - dense_3_acc_4: 0.6150 - dense_3_acc_5: 0.2085 - dense_3_acc_6: 0.0180 - dense_3_acc_7: 0.7620 - dense_3_acc_8: 0.0560 - dense_3_acc_9: 0.01 - ETA: 38s - loss: 21.6020 - dense_3_loss: 2.7881 - dense_3_acc: 4.7619e-04 - dense_3_acc_1: 0.3776 - dense_3_acc_2: 0.1600 - dense_3_acc_3: 0.0724 - dense_3_acc_4: 0.6333 - dense_3_acc_5: 0.1986 - dense_3_acc_6: 0.0171 - dense_3_acc_7: 0.7733 - dense_3_acc_8: 0.0533 - dense_3_acc_9: 0.01 - ETA: 36s - loss: 21.5446 - dense_3_loss: 2.7851 - dense_3_acc: 4.5455e-04 - dense_3_acc_1: 0.3895 - dense_3_acc_2: 0.1609 - dense_3_acc_3: 0.0741 - dense_3_acc_4: 0.6500 - dense_3_acc_5: 0.1895 - dense_3_acc_6: 0.0164 - dense_3_acc_7: 0.7836 - dense_3_acc_8: 0.0509 - dense_3_acc_9: 0.01 - ETA: 35s - loss: 21.5035 - dense_3_loss: 2.7898 - dense_3_acc: 4.3478e-04 - dense_3_acc_1: 0.3939 - dense_3_acc_2: 0.1648 - dense_3_acc_3: 0.0752 - dense_3_acc_4: 0.6226 - dense_3_acc_5: 0.1813 - dense_3_acc_6: 0.0157 - dense_3_acc_7: 0.7930 - dense_3_acc_8: 0.0487 - dense_3_acc_9: 0.01 - ETA: 33s - loss: 21.4416 - dense_3_loss: 2.7871 - dense_3_acc: 4.1667e-04 - dense_3_acc_1: 0.4025 - dense_3_acc_2: 0.1646 - dense_3_acc_3: 0.0767 - dense_3_acc_4: 0.6383 - dense_3_acc_5: 0.1737 - dense_3_acc_6: 0.0150 - dense_3_acc_7: 0.8017 - dense_3_acc_8: 0.0467 - dense_3_acc_9: 0.01 - ETA: 32s - loss: 21.4018 - dense_3_loss: 2.7893 - dense_3_acc: 4.0000e-04 - dense_3_acc_1: 0.4088 - dense_3_acc_2: 0.1704 - dense_3_acc_3: 0.0772 - dense_3_acc_4: 0.6528 - dense_3_acc_5: 0.1668 - dense_3_acc_6: 0.0144 - dense_3_acc_7: 0.8096 - dense_3_acc_8: 0.0448 - dense_3_acc_9: 0.01 - ETA: 30s - loss: 21.3497 - dense_3_loss: 2.7913 - dense_3_acc: 3.8462e-04 - dense_3_acc_1: 0.4188 - dense_3_acc_2: 0.1777 - dense_3_acc_3: 0.0777 - dense_3_acc_4: 0.6662 - dense_3_acc_5: 0.1604 - dense_3_acc_6: 0.0138 - dense_3_acc_7: 0.8169 - dense_3_acc_8: 0.0431 - dense_3_acc_9: 0.01 - ETA: 29s - loss: 21.2962 - dense_3_loss: 2.7860 - dense_3_acc: 3.7037e-04 - dense_3_acc_1: 0.4237 - dense_3_acc_2: 0.1826 - dense_3_acc_3: 0.0785 - dense_3_acc_4: 0.6785 - dense_3_acc_5: 0.1544 - dense_3_acc_6: 0.0133 - dense_3_acc_7: 0.8237 - dense_3_acc_8: 0.0415 - dense_3_acc_9: 0.01 - ETA: 28s - loss: 21.2541 - dense_3_loss: 2.7881 - dense_3_acc: 3.5714e-04 - dense_3_acc_1: 0.4314 - dense_3_acc_2: 0.1875 - dense_3_acc_3: 0.0786 - dense_3_acc_4: 0.6900 - dense_3_acc_5: 0.1489 - dense_3_acc_6: 0.0129 - dense_3_acc_7: 0.8300 - dense_3_acc_8: 0.0400 - dense_3_acc_9: 0.01 - ETA: 27s - loss: 21.2006 - dense_3_loss: 2.7889 - dense_3_acc: 3.4483e-04 - dense_3_acc_1: 0.4372 - dense_3_acc_2: 0.1910 - dense_3_acc_3: 0.0762 - dense_3_acc_4: 0.7007 - dense_3_acc_5: 0.1438 - dense_3_acc_6: 0.0124 - dense_3_acc_7: 0.8359 - dense_3_acc_8: 0.0386 - dense_3_acc_9: 0.0107\b\b\b\b\b\b\b\b\b\b\b\b\b\b\b\b\b\b\b\b\b\b\b\b\b\b\b\b\b\b\b\b\b\b\b\b\b\b\b\b\b\b\b\b\b\b\b\b\b\b\b\b\b\b\b\b\b\b\b\b\b\b\b\b\b\b\b\b\b\b\b\b\b\b\b\b\b\b\b\b\b\b\b\b\b\b\b\b\b\b\b\b\b\b\b\b\b\b\b\b\b\b\b\b\b\b\b\b\b\b\b\b\b\b\b\b\b\b\b\b\b\b\b\b\b\b\b\b\b\b\b\b\b\b\b\b\b\b\b\b\b\b\b\b\b\b\b\b\b\b\b\b\b\b\b\b\b\b\b\b\b\b\b\b\b\b\b\b\b\b\b\b\b\b\b\b\b\b\b\b\b\b\b\b\b\b\b\b\b\b\b\b\b\b\b\b\b\b\b\b\b\b\b\b\b\b\b\b\b\b\b\b\b\b\b\b\b\b\b\b\b\b\b\b\b\b\b\b\b\b\b\b\b\b\b\b\b\b\b\b\b\b\b\b\b\b\b\b\b\b\b\b\b\b\b\b\b\b\b\b\b\b\b\b\b\b\b\b\b\b\b\b\b\b\b\b\b\b\b\b\b\b\b\b\b\b\b\b\b\b\b\b\b\b\b\b\b\b\b\b\b\b\b\b\b\b\b\b\b\b\b\b\b\b\b\b\b\b\b\b\b\b\b\b\b\b\b\b\b\b\b\b\b\b\b\b"
     ]
    },
    {
     "name": "stdout",
     "output_type": "stream",
     "text": [
      " 5800/10000 [================>.............] - ETA: 26s - loss: 21.1546 - dense_3_loss: 2.7843 - dense_3_acc: 3.3333e-04 - dense_3_acc_1: 0.4423 - dense_3_acc_2: 0.1913 - dense_3_acc_3: 0.0737 - dense_3_acc_4: 0.7107 - dense_3_acc_5: 0.1390 - dense_3_acc_6: 0.0120 - dense_3_acc_7: 0.8413 - dense_3_acc_8: 0.0373 - dense_3_acc_9: 0.01 - ETA: 25s - loss: 21.1024 - dense_3_loss: 2.7826 - dense_3_acc: 3.2258e-04 - dense_3_acc_1: 0.4497 - dense_3_acc_2: 0.1945 - dense_3_acc_3: 0.0713 - dense_3_acc_4: 0.7200 - dense_3_acc_5: 0.1345 - dense_3_acc_6: 0.0116 - dense_3_acc_7: 0.8465 - dense_3_acc_8: 0.0361 - dense_3_acc_9: 0.01 - ETA: 24s - loss: 21.0514 - dense_3_loss: 2.7816 - dense_3_acc: 3.1250e-04 - dense_3_acc_1: 0.4541 - dense_3_acc_2: 0.1988 - dense_3_acc_3: 0.0719 - dense_3_acc_4: 0.7287 - dense_3_acc_5: 0.1303 - dense_3_acc_6: 0.0113 - dense_3_acc_7: 0.8513 - dense_3_acc_8: 0.0353 - dense_3_acc_9: 0.01 - ETA: 23s - loss: 21.0015 - dense_3_loss: 2.7830 - dense_3_acc: 3.0303e-04 - dense_3_acc_1: 0.4582 - dense_3_acc_2: 0.2036 - dense_3_acc_3: 0.0733 - dense_3_acc_4: 0.7370 - dense_3_acc_5: 0.1264 - dense_3_acc_6: 0.0109 - dense_3_acc_7: 0.8558 - dense_3_acc_8: 0.0388 - dense_3_acc_9: 0.01 - ETA: 22s - loss: 20.9464 - dense_3_loss: 2.7798 - dense_3_acc: 2.9412e-04 - dense_3_acc_1: 0.4626 - dense_3_acc_2: 0.2094 - dense_3_acc_3: 0.0741 - dense_3_acc_4: 0.7447 - dense_3_acc_5: 0.1226 - dense_3_acc_6: 0.0106 - dense_3_acc_7: 0.8600 - dense_3_acc_8: 0.0403 - dense_3_acc_9: 0.02 - ETA: 21s - loss: 20.8976 - dense_3_loss: 2.7783 - dense_3_acc: 2.8571e-04 - dense_3_acc_1: 0.4657 - dense_3_acc_2: 0.2129 - dense_3_acc_3: 0.0734 - dense_3_acc_4: 0.7520 - dense_3_acc_5: 0.1191 - dense_3_acc_6: 0.0103 - dense_3_acc_7: 0.8640 - dense_3_acc_8: 0.0429 - dense_3_acc_9: 0.02 - ETA: 20s - loss: 20.8513 - dense_3_loss: 2.7799 - dense_3_acc: 2.7778e-04 - dense_3_acc_1: 0.4686 - dense_3_acc_2: 0.2194 - dense_3_acc_3: 0.0714 - dense_3_acc_4: 0.7589 - dense_3_acc_5: 0.1158 - dense_3_acc_6: 0.0100 - dense_3_acc_7: 0.8678 - dense_3_acc_8: 0.0458 - dense_3_acc_9: 0.02 - ETA: 20s - loss: 20.7998 - dense_3_loss: 2.7796 - dense_3_acc: 0.0176 - dense_3_acc_1: 0.4732 - dense_3_acc_2: 0.2216 - dense_3_acc_3: 0.0695 - dense_3_acc_4: 0.7654 - dense_3_acc_5: 0.1127 - dense_3_acc_6: 0.0097 - dense_3_acc_7: 0.8714 - dense_3_acc_8: 0.0451 - dense_3_acc_9: 0.0303   - ETA: 19s - loss: 20.7456 - dense_3_loss: 2.7752 - dense_3_acc: 0.0332 - dense_3_acc_1: 0.4768 - dense_3_acc_2: 0.2276 - dense_3_acc_3: 0.0676 - dense_3_acc_4: 0.7716 - dense_3_acc_5: 0.1097 - dense_3_acc_6: 0.0095 - dense_3_acc_7: 0.8747 - dense_3_acc_8: 0.0439 - dense_3_acc_9: 0.03 - ETA: 18s - loss: 20.6914 - dense_3_loss: 2.7745 - dense_3_acc: 0.0477 - dense_3_acc_1: 0.4803 - dense_3_acc_2: 0.2303 - dense_3_acc_3: 0.0659 - dense_3_acc_4: 0.7774 - dense_3_acc_5: 0.1069 - dense_3_acc_6: 0.0092 - dense_3_acc_7: 0.8779 - dense_3_acc_8: 0.0444 - dense_3_acc_9: 0.03 - ETA: 18s - loss: 20.6386 - dense_3_loss: 2.7720 - dense_3_acc: 0.0610 - dense_3_acc_1: 0.4828 - dense_3_acc_2: 0.2345 - dense_3_acc_3: 0.0653 - dense_3_acc_4: 0.7830 - dense_3_acc_5: 0.1042 - dense_3_acc_6: 0.0090 - dense_3_acc_7: 0.8810 - dense_3_acc_8: 0.0480 - dense_3_acc_9: 0.03 - ETA: 17s - loss: 20.5860 - dense_3_loss: 2.7719 - dense_3_acc: 0.0744 - dense_3_acc_1: 0.4866 - dense_3_acc_2: 0.2373 - dense_3_acc_3: 0.0668 - dense_3_acc_4: 0.7883 - dense_3_acc_5: 0.1017 - dense_3_acc_6: 0.0088 - dense_3_acc_7: 0.8785 - dense_3_acc_8: 0.0561 - dense_3_acc_9: 0.04 - ETA: 17s - loss: 20.5416 - dense_3_loss: 2.7728 - dense_3_acc: 0.0883 - dense_3_acc_1: 0.4948 - dense_3_acc_2: 0.2381 - dense_3_acc_3: 0.0664 - dense_3_acc_4: 0.7933 - dense_3_acc_5: 0.0993 - dense_3_acc_6: 0.0086 - dense_3_acc_7: 0.8762 - dense_3_acc_8: 0.0624 - dense_3_acc_9: 0.04 - ETA: 16s - loss: 20.4846 - dense_3_loss: 2.7715 - dense_3_acc: 0.1021 - dense_3_acc_1: 0.5023 - dense_3_acc_2: 0.2391 - dense_3_acc_3: 0.0660 - dense_3_acc_4: 0.7981 - dense_3_acc_5: 0.0970 - dense_3_acc_6: 0.0084 - dense_3_acc_7: 0.8791 - dense_3_acc_8: 0.0663 - dense_3_acc_9: 0.04 - ETA: 16s - loss: 20.4427 - dense_3_loss: 2.7718 - dense_3_acc: 0.1132 - dense_3_acc_1: 0.5050 - dense_3_acc_2: 0.2420 - dense_3_acc_3: 0.0657 - dense_3_acc_4: 0.8027 - dense_3_acc_5: 0.0948 - dense_3_acc_6: 0.0082 - dense_3_acc_7: 0.8818 - dense_3_acc_8: 0.0682 - dense_3_acc_9: 0.04 - ETA: 15s - loss: 20.3957 - dense_3_loss: 2.7709 - dense_3_acc: 0.1229 - dense_3_acc_1: 0.5098 - dense_3_acc_2: 0.2438 - dense_3_acc_3: 0.0642 - dense_3_acc_4: 0.8071 - dense_3_acc_5: 0.0927 - dense_3_acc_6: 0.0080 - dense_3_acc_7: 0.8844 - dense_3_acc_8: 0.0738 - dense_3_acc_9: 0.04 - ETA: 15s - loss: 20.3419 - dense_3_loss: 2.7714 - dense_3_acc: 0.1354 - dense_3_acc_1: 0.5198 - dense_3_acc_2: 0.2463 - dense_3_acc_3: 0.0628 - dense_3_acc_4: 0.8113 - dense_3_acc_5: 0.0907 - dense_3_acc_6: 0.0078 - dense_3_acc_7: 0.8865 - dense_3_acc_8: 0.0796 - dense_3_acc_9: 0.05 - ETA: 14s - loss: 20.2963 - dense_3_loss: 2.7711 - dense_3_acc: 0.1436 - dense_3_acc_1: 0.5226 - dense_3_acc_2: 0.2487 - dense_3_acc_3: 0.0619 - dense_3_acc_4: 0.8153 - dense_3_acc_5: 0.0887 - dense_3_acc_6: 0.0077 - dense_3_acc_7: 0.8885 - dense_3_acc_8: 0.0843 - dense_3_acc_9: 0.05 - ETA: 14s - loss: 20.2422 - dense_3_loss: 2.7713 - dense_3_acc: 0.1540 - dense_3_acc_1: 0.5263 - dense_3_acc_2: 0.2529 - dense_3_acc_3: 0.0615 - dense_3_acc_4: 0.8192 - dense_3_acc_5: 0.0871 - dense_3_acc_6: 0.0083 - dense_3_acc_7: 0.8875 - dense_3_acc_8: 0.0902 - dense_3_acc_9: 0.05 - ETA: 13s - loss: 20.1866 - dense_3_loss: 2.7710 - dense_3_acc: 0.1647 - dense_3_acc_1: 0.5333 - dense_3_acc_2: 0.2555 - dense_3_acc_3: 0.0602 - dense_3_acc_4: 0.8229 - dense_3_acc_5: 0.0869 - dense_3_acc_6: 0.0082 - dense_3_acc_7: 0.8898 - dense_3_acc_8: 0.0902 - dense_3_acc_9: 0.05 - ETA: 13s - loss: 20.1374 - dense_3_loss: 2.7706 - dense_3_acc: 0.1740 - dense_3_acc_1: 0.5398 - dense_3_acc_2: 0.2582 - dense_3_acc_3: 0.0592 - dense_3_acc_4: 0.8264 - dense_3_acc_5: 0.0852 - dense_3_acc_6: 0.0080 - dense_3_acc_7: 0.8920 - dense_3_acc_8: 0.0902 - dense_3_acc_9: 0.05 - ETA: 12s - loss: 20.0854 - dense_3_loss: 2.7696 - dense_3_acc: 0.1833 - dense_3_acc_1: 0.5449 - dense_3_acc_2: 0.2602 - dense_3_acc_3: 0.0580 - dense_3_acc_4: 0.8298 - dense_3_acc_5: 0.0835 - dense_3_acc_6: 0.0078 - dense_3_acc_7: 0.8939 - dense_3_acc_8: 0.0933 - dense_3_acc_9: 0.05 - ETA: 12s - loss: 20.0275 - dense_3_loss: 2.7669 - dense_3_acc: 0.1915 - dense_3_acc_1: 0.5492 - dense_3_acc_2: 0.2631 - dense_3_acc_3: 0.0581 - dense_3_acc_4: 0.8331 - dense_3_acc_5: 0.0819 - dense_3_acc_6: 0.0079 - dense_3_acc_7: 0.8952 - dense_3_acc_8: 0.0983 - dense_3_acc_9: 0.06 - ETA: 11s - loss: 19.9796 - dense_3_loss: 2.7656 - dense_3_acc: 0.1998 - dense_3_acc_1: 0.5526 - dense_3_acc_2: 0.2655 - dense_3_acc_3: 0.0587 - dense_3_acc_4: 0.8362 - dense_3_acc_5: 0.0804 - dense_3_acc_6: 0.0077 - dense_3_acc_7: 0.8970 - dense_3_acc_8: 0.1015 - dense_3_acc_9: 0.06 - ETA: 11s - loss: 19.9297 - dense_3_loss: 2.7630 - dense_3_acc: 0.2067 - dense_3_acc_1: 0.5565 - dense_3_acc_2: 0.2680 - dense_3_acc_3: 0.0578 - dense_3_acc_4: 0.8385 - dense_3_acc_5: 0.0824 - dense_3_acc_6: 0.0076 - dense_3_acc_7: 0.8985 - dense_3_acc_8: 0.1056 - dense_3_acc_9: 0.06 - ETA: 11s - loss: 19.8785 - dense_3_loss: 2.7585 - dense_3_acc: 0.2138 - dense_3_acc_1: 0.5624 - dense_3_acc_2: 0.2707 - dense_3_acc_3: 0.0573 - dense_3_acc_4: 0.8373 - dense_3_acc_5: 0.0884 - dense_3_acc_6: 0.0075 - dense_3_acc_7: 0.8982 - dense_3_acc_8: 0.1087 - dense_3_acc_9: 0.06 - ETA: 10s - loss: 19.8288 - dense_3_loss: 2.7547 - dense_3_acc: 0.2195 - dense_3_acc_1: 0.5677 - dense_3_acc_2: 0.2729 - dense_3_acc_3: 0.0577 - dense_3_acc_4: 0.8362 - dense_3_acc_5: 0.0955 - dense_3_acc_6: 0.0073 - dense_3_acc_7: 0.9000 - dense_3_acc_8: 0.1102 - dense_3_acc_9: 0.06 - ETA: 10s - loss: 19.7808 - dense_3_loss: 2.7518 - dense_3_acc: 0.2251 - dense_3_acc_1: 0.5721 - dense_3_acc_2: 0.2740 - dense_3_acc_3: 0.0577 - dense_3_acc_4: 0.8391 - dense_3_acc_5: 0.0989 - dense_3_acc_6: 0.0072 - dense_3_acc_7: 0.9018 - dense_3_acc_8: 0.1111 - dense_3_acc_9: 0.06 - ETA: 10s - loss: 19.7251 - dense_3_loss: 2.7481 - dense_3_acc: 0.2309 - dense_3_acc_1: 0.5762 - dense_3_acc_2: 0.2769 - dense_3_acc_3: 0.0586 - dense_3_acc_4: 0.8419 - dense_3_acc_5: 0.1009 - dense_3_acc_6: 0.0072 - dense_3_acc_7: 0.9034 - dense_3_acc_8: 0.1112 - dense_3_acc_9: 0.0698"
     ]
    },
    {
     "name": "stdout",
     "output_type": "stream",
     "text": [
      " 8700/10000 [=========================>....] - ETA: 9s - loss: 19.6777 - dense_3_loss: 2.7464 - dense_3_acc: 0.2364 - dense_3_acc_1: 0.5800 - dense_3_acc_2: 0.2776 - dense_3_acc_3: 0.0580 - dense_3_acc_4: 0.8446 - dense_3_acc_5: 0.1032 - dense_3_acc_6: 0.0073 - dense_3_acc_7: 0.9046 - dense_3_acc_8: 0.1141 - dense_3_acc_9: 0.0708 - ETA: 9s - loss: 19.6257 - dense_3_loss: 2.7421 - dense_3_acc: 0.2435 - dense_3_acc_1: 0.5852 - dense_3_acc_2: 0.2778 - dense_3_acc_3: 0.0573 - dense_3_acc_4: 0.8468 - dense_3_acc_5: 0.1087 - dense_3_acc_6: 0.0077 - dense_3_acc_7: 0.9058 - dense_3_acc_8: 0.1182 - dense_3_acc_9: 0.072 - ETA: 9s - loss: 19.5688 - dense_3_loss: 2.7397 - dense_3_acc: 0.2487 - dense_3_acc_1: 0.5913 - dense_3_acc_2: 0.2808 - dense_3_acc_3: 0.0582 - dense_3_acc_4: 0.8489 - dense_3_acc_5: 0.1143 - dense_3_acc_6: 0.0079 - dense_3_acc_7: 0.9074 - dense_3_acc_8: 0.1236 - dense_3_acc_9: 0.072 - ETA: 8s - loss: 19.5091 - dense_3_loss: 2.7382 - dense_3_acc: 0.2558 - dense_3_acc_1: 0.5968 - dense_3_acc_2: 0.2832 - dense_3_acc_3: 0.0584 - dense_3_acc_4: 0.8513 - dense_3_acc_5: 0.1160 - dense_3_acc_6: 0.0081 - dense_3_acc_7: 0.9089 - dense_3_acc_8: 0.1258 - dense_3_acc_9: 0.072 - ETA: 8s - loss: 19.4455 - dense_3_loss: 2.7351 - dense_3_acc: 0.2632 - dense_3_acc_1: 0.6016 - dense_3_acc_2: 0.2851 - dense_3_acc_3: 0.0581 - dense_3_acc_4: 0.8537 - dense_3_acc_5: 0.1179 - dense_3_acc_6: 0.0079 - dense_3_acc_7: 0.9103 - dense_3_acc_8: 0.1298 - dense_3_acc_9: 0.073 - ETA: 8s - loss: 19.3884 - dense_3_loss: 2.7326 - dense_3_acc: 0.2708 - dense_3_acc_1: 0.6061 - dense_3_acc_2: 0.2870 - dense_3_acc_3: 0.0580 - dense_3_acc_4: 0.8559 - dense_3_acc_5: 0.1234 - dense_3_acc_6: 0.0080 - dense_3_acc_7: 0.9117 - dense_3_acc_8: 0.1298 - dense_3_acc_9: 0.074 - ETA: 7s - loss: 19.3273 - dense_3_loss: 2.7286 - dense_3_acc: 0.2792 - dense_3_acc_1: 0.6103 - dense_3_acc_2: 0.2885 - dense_3_acc_3: 0.0580 - dense_3_acc_4: 0.8582 - dense_3_acc_5: 0.1338 - dense_3_acc_6: 0.0082 - dense_3_acc_7: 0.9131 - dense_3_acc_8: 0.1322 - dense_3_acc_9: 0.076 - ETA: 7s - loss: 19.2673 - dense_3_loss: 2.7256 - dense_3_acc: 0.2868 - dense_3_acc_1: 0.6152 - dense_3_acc_2: 0.2903 - dense_3_acc_3: 0.0574 - dense_3_acc_4: 0.8603 - dense_3_acc_5: 0.1436 - dense_3_acc_6: 0.0080 - dense_3_acc_7: 0.9144 - dense_3_acc_8: 0.1353 - dense_3_acc_9: 0.075 - ETA: 7s - loss: 19.2032 - dense_3_loss: 2.7226 - dense_3_acc: 0.2936 - dense_3_acc_1: 0.6190 - dense_3_acc_2: 0.2919 - dense_3_acc_3: 0.0570 - dense_3_acc_4: 0.8624 - dense_3_acc_5: 0.1527 - dense_3_acc_6: 0.0090 - dense_3_acc_7: 0.9157 - dense_3_acc_8: 0.1388 - dense_3_acc_9: 0.076 - ETA: 7s - loss: 19.1384 - dense_3_loss: 2.7180 - dense_3_acc: 0.3000 - dense_3_acc_1: 0.6231 - dense_3_acc_2: 0.2929 - dense_3_acc_3: 0.0563 - dense_3_acc_4: 0.8644 - dense_3_acc_5: 0.1626 - dense_3_acc_6: 0.0093 - dense_3_acc_7: 0.9169 - dense_3_acc_8: 0.1419 - dense_3_acc_9: 0.077 - ETA: 6s - loss: 19.0704 - dense_3_loss: 2.7145 - dense_3_acc: 0.3075 - dense_3_acc_1: 0.6271 - dense_3_acc_2: 0.2952 - dense_3_acc_3: 0.0562 - dense_3_acc_4: 0.8664 - dense_3_acc_5: 0.1716 - dense_3_acc_6: 0.0094 - dense_3_acc_7: 0.9181 - dense_3_acc_8: 0.1448 - dense_3_acc_9: 0.077 - ETA: 6s - loss: 18.9966 - dense_3_loss: 2.7091 - dense_3_acc: 0.3154 - dense_3_acc_1: 0.6314 - dense_3_acc_2: 0.2964 - dense_3_acc_3: 0.0571 - dense_3_acc_4: 0.8683 - dense_3_acc_5: 0.1807 - dense_3_acc_6: 0.0100 - dense_3_acc_7: 0.9193 - dense_3_acc_8: 0.1483 - dense_3_acc_9: 0.079 - ETA: 6s - loss: 18.9254 - dense_3_loss: 2.7050 - dense_3_acc: 0.3220 - dense_3_acc_1: 0.6349 - dense_3_acc_2: 0.2970 - dense_3_acc_3: 0.0576 - dense_3_acc_4: 0.8701 - dense_3_acc_5: 0.1866 - dense_3_acc_6: 0.0106 - dense_3_acc_7: 0.9204 - dense_3_acc_8: 0.1521 - dense_3_acc_9: 0.079 - ETA: 5s - loss: 18.8551 - dense_3_loss: 2.7033 - dense_3_acc: 0.3292 - dense_3_acc_1: 0.6392 - dense_3_acc_2: 0.2976 - dense_3_acc_3: 0.0585 - dense_3_acc_4: 0.8719 - dense_3_acc_5: 0.1944 - dense_3_acc_6: 0.0111 - dense_3_acc_7: 0.9215 - dense_3_acc_8: 0.1551 - dense_3_acc_9: 0.080 - ETA: 5s - loss: 18.7837 - dense_3_loss: 2.6991 - dense_3_acc: 0.3373 - dense_3_acc_1: 0.6427 - dense_3_acc_2: 0.2989 - dense_3_acc_3: 0.0588 - dense_3_acc_4: 0.8737 - dense_3_acc_5: 0.2027 - dense_3_acc_6: 0.0116 - dense_3_acc_7: 0.9226 - dense_3_acc_8: 0.1588 - dense_3_acc_9: 0.081 - ETA: 5s - loss: 18.7111 - dense_3_loss: 2.6945 - dense_3_acc: 0.3426 - dense_3_acc_1: 0.6461 - dense_3_acc_2: 0.3005 - dense_3_acc_3: 0.0592 - dense_3_acc_4: 0.8754 - dense_3_acc_5: 0.2097 - dense_3_acc_6: 0.0122 - dense_3_acc_7: 0.9236 - dense_3_acc_8: 0.1620 - dense_3_acc_9: 0.081 - ETA: 5s - loss: 18.6383 - dense_3_loss: 2.6905 - dense_3_acc: 0.3485 - dense_3_acc_1: 0.6499 - dense_3_acc_2: 0.3021 - dense_3_acc_3: 0.0592 - dense_3_acc_4: 0.8771 - dense_3_acc_5: 0.2164 - dense_3_acc_6: 0.0131 - dense_3_acc_7: 0.9247 - dense_3_acc_8: 0.1651 - dense_3_acc_9: 0.082 - ETA: 4s - loss: 18.5660 - dense_3_loss: 2.6861 - dense_3_acc: 0.3558 - dense_3_acc_1: 0.6528 - dense_3_acc_2: 0.3034 - dense_3_acc_3: 0.0587 - dense_3_acc_4: 0.8787 - dense_3_acc_5: 0.2229 - dense_3_acc_6: 0.0137 - dense_3_acc_7: 0.9257 - dense_3_acc_8: 0.1680 - dense_3_acc_9: 0.082 - ETA: 4s - loss: 18.4856 - dense_3_loss: 2.6815 - dense_3_acc: 0.3635 - dense_3_acc_1: 0.6569 - dense_3_acc_2: 0.3049 - dense_3_acc_3: 0.0592 - dense_3_acc_4: 0.8803 - dense_3_acc_5: 0.2301 - dense_3_acc_6: 0.0153 - dense_3_acc_7: 0.9266 - dense_3_acc_8: 0.1700 - dense_3_acc_9: 0.083 - ETA: 4s - loss: 18.4080 - dense_3_loss: 2.6774 - dense_3_acc: 0.3700 - dense_3_acc_1: 0.6606 - dense_3_acc_2: 0.3064 - dense_3_acc_3: 0.0597 - dense_3_acc_4: 0.8818 - dense_3_acc_5: 0.2379 - dense_3_acc_6: 0.0162 - dense_3_acc_7: 0.9276 - dense_3_acc_8: 0.1728 - dense_3_acc_9: 0.083 - ETA: 4s - loss: 18.3340 - dense_3_loss: 2.6736 - dense_3_acc: 0.3762 - dense_3_acc_1: 0.6639 - dense_3_acc_2: 0.3070 - dense_3_acc_3: 0.0603 - dense_3_acc_4: 0.8833 - dense_3_acc_5: 0.2444 - dense_3_acc_6: 0.0167 - dense_3_acc_7: 0.9285 - dense_3_acc_8: 0.1759 - dense_3_acc_9: 0.083 - ETA: 4s - loss: 18.2572 - dense_3_loss: 2.6692 - dense_3_acc: 0.3825 - dense_3_acc_1: 0.6675 - dense_3_acc_2: 0.3070 - dense_3_acc_3: 0.0608 - dense_3_acc_4: 0.8847 - dense_3_acc_5: 0.2505 - dense_3_acc_6: 0.0177 - dense_3_acc_7: 0.9294 - dense_3_acc_8: 0.1801 - dense_3_acc_9: 0.084 - ETA: 3s - loss: 18.1817 - dense_3_loss: 2.6656 - dense_3_acc: 0.3885 - dense_3_acc_1: 0.6701 - dense_3_acc_2: 0.3081 - dense_3_acc_3: 0.0619 - dense_3_acc_4: 0.8862 - dense_3_acc_5: 0.2573 - dense_3_acc_6: 0.0180 - dense_3_acc_7: 0.9302 - dense_3_acc_8: 0.1838 - dense_3_acc_9: 0.084 - ETA: 3s - loss: 18.1046 - dense_3_loss: 2.6607 - dense_3_acc: 0.3952 - dense_3_acc_1: 0.6735 - dense_3_acc_2: 0.3085 - dense_3_acc_3: 0.0629 - dense_3_acc_4: 0.8876 - dense_3_acc_5: 0.2635 - dense_3_acc_6: 0.0187 - dense_3_acc_7: 0.9311 - dense_3_acc_8: 0.1871 - dense_3_acc_9: 0.085 - ETA: 3s - loss: 18.0325 - dense_3_loss: 2.6571 - dense_3_acc: 0.4011 - dense_3_acc_1: 0.6766 - dense_3_acc_2: 0.3107 - dense_3_acc_3: 0.0631 - dense_3_acc_4: 0.8889 - dense_3_acc_5: 0.2698 - dense_3_acc_6: 0.0194 - dense_3_acc_7: 0.9319 - dense_3_acc_8: 0.1894 - dense_3_acc_9: 0.085 - ETA: 3s - loss: 17.9577 - dense_3_loss: 2.6535 - dense_3_acc: 0.4076 - dense_3_acc_1: 0.6801 - dense_3_acc_2: 0.3119 - dense_3_acc_3: 0.0640 - dense_3_acc_4: 0.8902 - dense_3_acc_5: 0.2755 - dense_3_acc_6: 0.0201 - dense_3_acc_7: 0.9327 - dense_3_acc_8: 0.1912 - dense_3_acc_9: 0.085 - ETA: 2s - loss: 17.8821 - dense_3_loss: 2.6501 - dense_3_acc: 0.4140 - dense_3_acc_1: 0.6832 - dense_3_acc_2: 0.3135 - dense_3_acc_3: 0.0648 - dense_3_acc_4: 0.8915 - dense_3_acc_5: 0.2799 - dense_3_acc_6: 0.0221 - dense_3_acc_7: 0.9335 - dense_3_acc_8: 0.1942 - dense_3_acc_9: 0.085 - ETA: 2s - loss: 17.8074 - dense_3_loss: 2.6459 - dense_3_acc: 0.4202 - dense_3_acc_1: 0.6860 - dense_3_acc_2: 0.3143 - dense_3_acc_3: 0.0652 - dense_3_acc_4: 0.8928 - dense_3_acc_5: 0.2859 - dense_3_acc_6: 0.0229 - dense_3_acc_7: 0.9343 - dense_3_acc_8: 0.1959 - dense_3_acc_9: 0.086 - ETA: 2s - loss: 17.7315 - dense_3_loss: 2.6422 - dense_3_acc: 0.4266 - dense_3_acc_1: 0.6894 - dense_3_acc_2: 0.3154 - dense_3_acc_3: 0.0659 - dense_3_acc_4: 0.8940 - dense_3_acc_5: 0.2907 - dense_3_acc_6: 0.0251 - dense_3_acc_7: 0.9351 - dense_3_acc_8: 0.1989 - dense_3_acc_9: 0.0863"
     ]
    },
    {
     "name": "stdout",
     "output_type": "stream",
     "text": [
      "10000/10000 [==============================] - ETA: 2s - loss: 17.6566 - dense_3_loss: 2.6383 - dense_3_acc: 0.4322 - dense_3_acc_1: 0.6925 - dense_3_acc_2: 0.3169 - dense_3_acc_3: 0.0667 - dense_3_acc_4: 0.8952 - dense_3_acc_5: 0.2957 - dense_3_acc_6: 0.0269 - dense_3_acc_7: 0.9358 - dense_3_acc_8: 0.2008 - dense_3_acc_9: 0.086 - ETA: 2s - loss: 17.5838 - dense_3_loss: 2.6340 - dense_3_acc: 0.4379 - dense_3_acc_1: 0.6953 - dense_3_acc_2: 0.3181 - dense_3_acc_3: 0.0674 - dense_3_acc_4: 0.8964 - dense_3_acc_5: 0.3006 - dense_3_acc_6: 0.0281 - dense_3_acc_7: 0.9365 - dense_3_acc_8: 0.2036 - dense_3_acc_9: 0.088 - ETA: 1s - loss: 17.5147 - dense_3_loss: 2.6300 - dense_3_acc: 0.4426 - dense_3_acc_1: 0.6973 - dense_3_acc_2: 0.3190 - dense_3_acc_3: 0.0680 - dense_3_acc_4: 0.8976 - dense_3_acc_5: 0.3054 - dense_3_acc_6: 0.0299 - dense_3_acc_7: 0.9372 - dense_3_acc_8: 0.2050 - dense_3_acc_9: 0.089 - ETA: 1s - loss: 17.4471 - dense_3_loss: 2.6259 - dense_3_acc: 0.4478 - dense_3_acc_1: 0.6996 - dense_3_acc_2: 0.3197 - dense_3_acc_3: 0.0679 - dense_3_acc_4: 0.8987 - dense_3_acc_5: 0.3105 - dense_3_acc_6: 0.0309 - dense_3_acc_7: 0.9379 - dense_3_acc_8: 0.2066 - dense_3_acc_9: 0.089 - ETA: 1s - loss: 17.3760 - dense_3_loss: 2.6227 - dense_3_acc: 0.4534 - dense_3_acc_1: 0.7023 - dense_3_acc_2: 0.3212 - dense_3_acc_3: 0.0676 - dense_3_acc_4: 0.8998 - dense_3_acc_5: 0.3155 - dense_3_acc_6: 0.0327 - dense_3_acc_7: 0.9386 - dense_3_acc_8: 0.2089 - dense_3_acc_9: 0.090 - ETA: 1s - loss: 17.3056 - dense_3_loss: 2.6187 - dense_3_acc: 0.4586 - dense_3_acc_1: 0.7051 - dense_3_acc_2: 0.3225 - dense_3_acc_3: 0.0678 - dense_3_acc_4: 0.9009 - dense_3_acc_5: 0.3204 - dense_3_acc_6: 0.0341 - dense_3_acc_7: 0.9392 - dense_3_acc_8: 0.2123 - dense_3_acc_9: 0.090 - ETA: 1s - loss: 17.2345 - dense_3_loss: 2.6144 - dense_3_acc: 0.4636 - dense_3_acc_1: 0.7077 - dense_3_acc_2: 0.3241 - dense_3_acc_3: 0.0681 - dense_3_acc_4: 0.9019 - dense_3_acc_5: 0.3257 - dense_3_acc_6: 0.0354 - dense_3_acc_7: 0.9399 - dense_3_acc_8: 0.2148 - dense_3_acc_9: 0.092 - ETA: 0s - loss: 17.1682 - dense_3_loss: 2.6105 - dense_3_acc: 0.4678 - dense_3_acc_1: 0.7097 - dense_3_acc_2: 0.3258 - dense_3_acc_3: 0.0685 - dense_3_acc_4: 0.9029 - dense_3_acc_5: 0.3298 - dense_3_acc_6: 0.0377 - dense_3_acc_7: 0.9405 - dense_3_acc_8: 0.2172 - dense_3_acc_9: 0.092 - ETA: 0s - loss: 17.1004 - dense_3_loss: 2.6072 - dense_3_acc: 0.4732 - dense_3_acc_1: 0.7125 - dense_3_acc_2: 0.3279 - dense_3_acc_3: 0.0697 - dense_3_acc_4: 0.9040 - dense_3_acc_5: 0.3344 - dense_3_acc_6: 0.0385 - dense_3_acc_7: 0.9411 - dense_3_acc_8: 0.2195 - dense_3_acc_9: 0.093 - ETA: 0s - loss: 17.0377 - dense_3_loss: 2.6042 - dense_3_acc: 0.4780 - dense_3_acc_1: 0.7144 - dense_3_acc_2: 0.3284 - dense_3_acc_3: 0.0699 - dense_3_acc_4: 0.9049 - dense_3_acc_5: 0.3384 - dense_3_acc_6: 0.0405 - dense_3_acc_7: 0.9418 - dense_3_acc_8: 0.2216 - dense_3_acc_9: 0.093 - ETA: 0s - loss: 16.9732 - dense_3_loss: 2.6012 - dense_3_acc: 0.4827 - dense_3_acc_1: 0.7165 - dense_3_acc_2: 0.3291 - dense_3_acc_3: 0.0703 - dense_3_acc_4: 0.9059 - dense_3_acc_5: 0.3427 - dense_3_acc_6: 0.0430 - dense_3_acc_7: 0.9423 - dense_3_acc_8: 0.2245 - dense_3_acc_9: 0.094 - ETA: 0s - loss: 16.9087 - dense_3_loss: 2.5979 - dense_3_acc: 0.4876 - dense_3_acc_1: 0.7191 - dense_3_acc_2: 0.3303 - dense_3_acc_3: 0.0705 - dense_3_acc_4: 0.9069 - dense_3_acc_5: 0.3476 - dense_3_acc_6: 0.0443 - dense_3_acc_7: 0.9429 - dense_3_acc_8: 0.2270 - dense_3_acc_9: 0.094 - 18s 2ms/step - loss: 16.8490 - dense_3_loss: 2.5948 - dense_3_acc: 0.4915 - dense_3_acc_1: 0.7208 - dense_3_acc_2: 0.3307 - dense_3_acc_3: 0.0715 - dense_3_acc_4: 0.9078 - dense_3_acc_5: 0.3514 - dense_3_acc_6: 0.0458 - dense_3_acc_7: 0.9435 - dense_3_acc_8: 0.2291 - dense_3_acc_9: 0.0950\n"
     ]
    },
    {
     "data": {
      "text/plain": [
       "<keras.callbacks.History at 0x22a183867f0>"
      ]
     },
     "execution_count": 14,
     "metadata": {},
     "output_type": "execute_result"
    }
   ],
   "source": [
    "model.fit([Xoh, s0, c0], outputs, epochs=1, batch_size=100)"
   ]
  },
  {
   "cell_type": "markdown",
   "metadata": {},
   "source": [
    "While training you can see the loss as well as the accuracy on each of the 10 positions of the output. The table below gives you an example of what the accuracies could be if the batch had 2 examples: \n",
    "\n",
    "<img src=\"images/table.png\" style=\"width:700;height:200px;\"> <br>\n",
    "<caption><center>Thus, `dense_2_acc_8: 0.89` means that you are predicting the 7th character of the output correctly 89% of the time in the current batch of data. </center></caption>\n",
    "\n",
    "\n",
    "We have run this model for longer, and saved the weights. Run the next cell to load our weights. (By training a model for several minutes, you should be able to obtain a model of similar accuracy, but loading our model will save you time.) "
   ]
  },
  {
   "cell_type": "code",
   "execution_count": 15,
   "metadata": {},
   "outputs": [],
   "source": [
    "model.load_weights('models/model.h5')"
   ]
  },
  {
   "cell_type": "markdown",
   "metadata": {},
   "source": [
    "You can now see the results on new examples."
   ]
  },
  {
   "cell_type": "code",
   "execution_count": 16,
   "metadata": {},
   "outputs": [
    {
     "name": "stdout",
     "output_type": "stream",
     "text": [
      "source: 3 May 1979\n",
      "output: 1979-05-03\n",
      "source: 5 April 09\n",
      "output: 2009-05-05\n",
      "source: 21th of August 2016\n",
      "output: 2016-08-21\n",
      "source: Tue 10 Jul 2007\n",
      "output: 2007-07-10\n",
      "source: Saturday May 9 2018\n",
      "output: 2018-05-09\n",
      "source: March 3 2001\n",
      "output: 2001-03-03\n",
      "source: March 3rd 2001\n",
      "output: 2001-03-03\n",
      "source: 1 March 2001\n",
      "output: 2001-03-01\n"
     ]
    }
   ],
   "source": [
    "EXAMPLES = ['3 May 1979', '5 April 09', '21th of August 2016', 'Tue 10 Jul 2007', 'Saturday May 9 2018', 'March 3 2001', 'March 3rd 2001', '1 March 2001']\n",
    "for example in EXAMPLES:\n",
    "    \n",
    "    source = string_to_int(example, Tx, human_vocab)\n",
    "    source = np.array(list(map(lambda x: to_categorical(x, num_classes=len(human_vocab)), source)))\n",
    "    source = np.expand_dims(source, axis=0)\n",
    "    prediction = model.predict([source, s0, c0])\n",
    "    prediction = np.argmax(prediction, axis = -1)\n",
    "    output = [inv_machine_vocab[int(i)] for i in prediction]\n",
    "    \n",
    "    print(\"source:\", example)\n",
    "    print(\"output:\", ''.join(output))"
   ]
  },
  {
   "cell_type": "markdown",
   "metadata": {},
   "source": [
    "You can also change these examples to test with your own examples. The next part will give you a better sense on what the attention mechanism is doing--i.e., what part of the input the network is paying attention to when generating a particular output character. "
   ]
  },
  {
   "cell_type": "markdown",
   "metadata": {},
   "source": [
    "## 3 - Visualizing Attention (Optional / Ungraded)\n",
    "\n",
    "Since the problem has a fixed output length of 10, it is also possible to carry out this task using 10 different softmax units to generate the 10 characters of the output. But one advantage of the attention model is that each part of the output (say the month) knows it needs to depend only on a small part of the input (the characters in the input giving the month). We can  visualize what part of the output is looking at what part of the input.\n",
    "\n",
    "Consider the task of translating \"Saturday 9 May 2018\" to \"2018-05-09\". If we visualize the computed $\\alpha^{\\langle t, t' \\rangle}$ we get this: \n",
    "\n",
    "<img src=\"images/date_attention.png\" style=\"width:600;height:300px;\"> <br>\n",
    "<caption><center> **Figure 8**: Full Attention Map</center></caption>\n",
    "\n",
    "Notice how the output ignores the \"Saturday\" portion of the input. None of the output timesteps are paying much attention to that portion of the input. We see also that 9 has been translated as 09 and May has been correctly translated into 05, with the output paying attention to the parts of the input it needs to to make the translation. The year mostly requires it to pay attention to the input's \"18\" in order to generate \"2018.\" \n",
    "\n"
   ]
  },
  {
   "cell_type": "markdown",
   "metadata": {},
   "source": [
    "### 3.1 - Getting the activations from the network\n",
    "\n",
    "Lets now visualize the attention values in your network. We'll propagate an example through the network, then visualize the values of $\\alpha^{\\langle t, t' \\rangle}$. \n",
    "\n",
    "To figure out where the attention values are located, let's start by printing a summary of the model ."
   ]
  },
  {
   "cell_type": "code",
   "execution_count": 17,
   "metadata": {},
   "outputs": [
    {
     "name": "stdout",
     "output_type": "stream",
     "text": [
      "__________________________________________________________________________________________________\n",
      "Layer (type)                    Output Shape         Param #     Connected to                     \n",
      "==================================================================================================\n",
      "input_1 (InputLayer)            (None, 30, 37)       0                                            \n",
      "__________________________________________________________________________________________________\n",
      "s0 (InputLayer)                 (None, 64)           0                                            \n",
      "__________________________________________________________________________________________________\n",
      "bidirectional_1 (Bidirectional) (None, 30, 64)       17920       input_1[0][0]                    \n",
      "__________________________________________________________________________________________________\n",
      "repeat_vector_1 (RepeatVector)  (None, 30, 64)       0           s0[0][0]                         \n",
      "                                                                 lstm_1[0][0]                     \n",
      "                                                                 lstm_1[1][0]                     \n",
      "                                                                 lstm_1[2][0]                     \n",
      "                                                                 lstm_1[3][0]                     \n",
      "                                                                 lstm_1[4][0]                     \n",
      "                                                                 lstm_1[5][0]                     \n",
      "                                                                 lstm_1[6][0]                     \n",
      "                                                                 lstm_1[7][0]                     \n",
      "                                                                 lstm_1[8][0]                     \n",
      "__________________________________________________________________________________________________\n",
      "concatenate_1 (Concatenate)     (None, 30, 128)      0           bidirectional_1[0][0]            \n",
      "                                                                 repeat_vector_1[0][0]            \n",
      "                                                                 bidirectional_1[0][0]            \n",
      "                                                                 repeat_vector_1[1][0]            \n",
      "                                                                 bidirectional_1[0][0]            \n",
      "                                                                 repeat_vector_1[2][0]            \n",
      "                                                                 bidirectional_1[0][0]            \n",
      "                                                                 repeat_vector_1[3][0]            \n",
      "                                                                 bidirectional_1[0][0]            \n",
      "                                                                 repeat_vector_1[4][0]            \n",
      "                                                                 bidirectional_1[0][0]            \n",
      "                                                                 repeat_vector_1[5][0]            \n",
      "                                                                 bidirectional_1[0][0]            \n",
      "                                                                 repeat_vector_1[6][0]            \n",
      "                                                                 bidirectional_1[0][0]            \n",
      "                                                                 repeat_vector_1[7][0]            \n",
      "                                                                 bidirectional_1[0][0]            \n",
      "                                                                 repeat_vector_1[8][0]            \n",
      "                                                                 bidirectional_1[0][0]            \n",
      "                                                                 repeat_vector_1[9][0]            \n",
      "__________________________________________________________________________________________________\n",
      "dense_1 (Dense)                 (None, 30, 10)       1290        concatenate_1[0][0]              \n",
      "                                                                 concatenate_1[1][0]              \n",
      "                                                                 concatenate_1[2][0]              \n",
      "                                                                 concatenate_1[3][0]              \n",
      "                                                                 concatenate_1[4][0]              \n",
      "                                                                 concatenate_1[5][0]              \n",
      "                                                                 concatenate_1[6][0]              \n",
      "                                                                 concatenate_1[7][0]              \n",
      "                                                                 concatenate_1[8][0]              \n",
      "                                                                 concatenate_1[9][0]              \n",
      "__________________________________________________________________________________________________\n",
      "dense_2 (Dense)                 (None, 30, 1)        11          dense_1[0][0]                    \n",
      "                                                                 dense_1[1][0]                    \n",
      "                                                                 dense_1[2][0]                    \n",
      "                                                                 dense_1[3][0]                    \n",
      "                                                                 dense_1[4][0]                    \n",
      "                                                                 dense_1[5][0]                    \n",
      "                                                                 dense_1[6][0]                    \n",
      "                                                                 dense_1[7][0]                    \n",
      "                                                                 dense_1[8][0]                    \n",
      "                                                                 dense_1[9][0]                    \n",
      "__________________________________________________________________________________________________\n",
      "attention_weights (Activation)  (None, 30, 1)        0           dense_2[0][0]                    \n",
      "                                                                 dense_2[1][0]                    \n",
      "                                                                 dense_2[2][0]                    \n",
      "                                                                 dense_2[3][0]                    \n",
      "                                                                 dense_2[4][0]                    \n",
      "                                                                 dense_2[5][0]                    \n",
      "                                                                 dense_2[6][0]                    \n",
      "                                                                 dense_2[7][0]                    \n",
      "                                                                 dense_2[8][0]                    \n",
      "                                                                 dense_2[9][0]                    \n",
      "__________________________________________________________________________________________________\n",
      "dot_1 (Dot)                     (None, 1, 64)        0           attention_weights[0][0]          \n",
      "                                                                 bidirectional_1[0][0]            \n",
      "                                                                 attention_weights[1][0]          \n",
      "                                                                 bidirectional_1[0][0]            \n",
      "                                                                 attention_weights[2][0]          \n",
      "                                                                 bidirectional_1[0][0]            \n",
      "                                                                 attention_weights[3][0]          \n",
      "                                                                 bidirectional_1[0][0]            \n"
     ]
    },
    {
     "name": "stdout",
     "output_type": "stream",
     "text": [
      "                                                                 attention_weights[4][0]          \n",
      "                                                                 bidirectional_1[0][0]            \n",
      "                                                                 attention_weights[5][0]          \n",
      "                                                                 bidirectional_1[0][0]            \n",
      "                                                                 attention_weights[6][0]          \n",
      "                                                                 bidirectional_1[0][0]            \n",
      "                                                                 attention_weights[7][0]          \n",
      "                                                                 bidirectional_1[0][0]            \n",
      "                                                                 attention_weights[8][0]          \n",
      "                                                                 bidirectional_1[0][0]            \n",
      "                                                                 attention_weights[9][0]          \n",
      "                                                                 bidirectional_1[0][0]            \n",
      "__________________________________________________________________________________________________\n",
      "c0 (InputLayer)                 (None, 64)           0                                            \n",
      "__________________________________________________________________________________________________\n",
      "lstm_1 (LSTM)                   [(None, 64), (None,  33024       dot_1[0][0]                      \n",
      "                                                                 s0[0][0]                         \n",
      "                                                                 c0[0][0]                         \n",
      "                                                                 dot_1[1][0]                      \n",
      "                                                                 lstm_1[0][0]                     \n",
      "                                                                 lstm_1[0][2]                     \n",
      "                                                                 dot_1[2][0]                      \n",
      "                                                                 lstm_1[1][0]                     \n",
      "                                                                 lstm_1[1][2]                     \n",
      "                                                                 dot_1[3][0]                      \n",
      "                                                                 lstm_1[2][0]                     \n",
      "                                                                 lstm_1[2][2]                     \n",
      "                                                                 dot_1[4][0]                      \n",
      "                                                                 lstm_1[3][0]                     \n",
      "                                                                 lstm_1[3][2]                     \n",
      "                                                                 dot_1[5][0]                      \n",
      "                                                                 lstm_1[4][0]                     \n",
      "                                                                 lstm_1[4][2]                     \n",
      "                                                                 dot_1[6][0]                      \n",
      "                                                                 lstm_1[5][0]                     \n",
      "                                                                 lstm_1[5][2]                     \n",
      "                                                                 dot_1[7][0]                      \n",
      "                                                                 lstm_1[6][0]                     \n",
      "                                                                 lstm_1[6][2]                     \n",
      "                                                                 dot_1[8][0]                      \n",
      "                                                                 lstm_1[7][0]                     \n",
      "                                                                 lstm_1[7][2]                     \n",
      "                                                                 dot_1[9][0]                      \n",
      "                                                                 lstm_1[8][0]                     \n",
      "                                                                 lstm_1[8][2]                     \n",
      "__________________________________________________________________________________________________\n",
      "dense_3 (Dense)                 (None, 11)           715         lstm_1[0][0]                     \n",
      "                                                                 lstm_1[1][0]                     \n",
      "                                                                 lstm_1[2][0]                     \n",
      "                                                                 lstm_1[3][0]                     \n",
      "                                                                 lstm_1[4][0]                     \n",
      "                                                                 lstm_1[5][0]                     \n",
      "                                                                 lstm_1[6][0]                     \n",
      "                                                                 lstm_1[7][0]                     \n",
      "                                                                 lstm_1[8][0]                     \n",
      "                                                                 lstm_1[9][0]                     \n",
      "==================================================================================================\n",
      "Total params: 52,960\n",
      "Trainable params: 52,960\n",
      "Non-trainable params: 0\n",
      "__________________________________________________________________________________________________\n"
     ]
    }
   ],
   "source": [
    "model.summary()"
   ]
  },
  {
   "cell_type": "markdown",
   "metadata": {},
   "source": [
    "Navigate through the output of `model.summary()` above. You can see that the layer named `attention_weights` outputs the `alphas` of shape (m, 30, 1) before `dot_2` computes the context vector for every time step $t = 0, \\ldots, T_y-1$. Lets get the activations from this layer.\n",
    "\n",
    "The function `attention_map()` pulls out the attention values from your model and plots them."
   ]
  },
  {
   "cell_type": "code",
   "execution_count": 18,
   "metadata": {
    "scrolled": false
   },
   "outputs": [
    {
     "data": {
      "text/plain": [
       "<Figure size 432x288 with 0 Axes>"
      ]
     },
     "metadata": {},
     "output_type": "display_data"
    },
    {
     "data": {
      "image/png": "[encoded data removed]",
      "text/plain": [
       "<Figure size 576x612 with 2 Axes>"
      ]
     },
     "metadata": {
      "needs_background": "light"
     },
     "output_type": "display_data"
    }
   ],
   "source": [
    "attention_map = plot_attention_map(model, human_vocab, inv_machine_vocab, \"Tuesday 09 Oct 1993\", num = 7, n_s = 64)"
   ]
  },
  {
   "cell_type": "markdown",
   "metadata": {},
   "source": [
    "On the generated plot you can observe the values of the attention weights for each character of the predicted output. Examine this plot and check that where the network is paying attention makes sense to you.\n",
    "\n",
    "In the date translation application, you will observe that most of the time attention helps predict the year, and hasn't much impact on predicting the day/month."
   ]
  },
  {
   "cell_type": "markdown",
   "metadata": {},
   "source": [
    "### Congratulations!\n",
    "\n",
    "\n",
    "You have come to the end of this assignment \n",
    "\n",
    "<font color='blue'> **Here's what you should remember from this notebook**:\n",
    "\n",
    "- Machine translation models can be used to map from one sequence to another. They are useful not just for translating human languages (like French->English) but also for tasks like date format translation. \n",
    "- An attention mechanism allows a network to focus on the most relevant parts of the input when producing a specific part of the output. \n",
    "- A network using an attention mechanism can translate from inputs of length $T_x$ to outputs of length $T_y$, where $T_x$ and $T_y$ can be different. \n",
    "- You can visualize attention weights $\\alpha^{\\langle t,t' \\rangle}$ to see what the network is paying attention to while generating each output."
   ]
  },
  {
   "cell_type": "markdown",
   "metadata": {},
   "source": [
    "Congratulations on finishing this assignment! You are now able to implement an attention model and use it to learn complex mappings from one sequence to another. "
   ]
  }
 ],
 "metadata": {
  "coursera": {
   "course_slug": "nlp-sequence-models",
   "graded_item_id": "n16CQ",
   "launcher_item_id": "npjGi"
  },
  "kernelspec": {
   "display_name": "Python 3",
   "language": "python",
   "name": "python3"
  },
  "language_info": {
   "codemirror_mode": {
    "name": "ipython",
    "version": 3
   },
   "file_extension": ".py",
   "mimetype": "text/x-python",
   "name": "python",
   "nbconvert_exporter": "python",
   "pygments_lexer": "ipython3",
   "version": "3.6.5"
  }
 },
 "nbformat": 4,
 "nbformat_minor": 2
}
